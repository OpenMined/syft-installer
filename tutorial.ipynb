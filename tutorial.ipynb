{
 "cells": [
  {
   "cell_type": "markdown",
   "metadata": {},
   "source": [
    "# SyftBox Installer Tutorial\n",
    "\n",
    "This notebook demonstrates how to use the `syft-installer` Python library to install and run SyftBox programmatically.\n",
    "\n",
    "## Installation\n",
    "\n",
    "First, let's install the library from the local directory (for testing):"
   ]
  },
  {
   "cell_type": "code",
   "execution_count": null,
   "metadata": {},
   "outputs": [],
   "source": [
    "# Install from local directory\n",
    "!pip install -e /Users/atrask/Documents/GitHub/syft-installer"
   ]
  },
  {
   "cell_type": "markdown",
   "metadata": {},
   "source": [
    "## 1. Quick Installation (One-liner)\n",
    "\n",
    "The simplest way to install SyftBox:"
   ]
  },
  {
   "cell_type": "code",
   "execution_count": null,
   "metadata": {},
   "outputs": [],
   "source": [
    "import syft_installer as si\n",
    "\n",
    "# This will prompt for email and OTP\n",
    "si.install()"
   ]
  },
  {
   "cell_type": "markdown",
   "metadata": {},
   "source": [
    "## 2. Check Installation Status\n",
    "\n",
    "Let's check if SyftBox is already installed:"
   ]
  },
  {
   "cell_type": "code",
   "execution_count": null,
   "metadata": {},
   "outputs": [],
   "source": [
    "import syft_installer as si\n",
    "\n",
    "# Check if installed\n",
    "if si.is_installed():\n",
    "    print(\"✅ SyftBox is installed\")\n",
    "    \n",
    "    # Load configuration\n",
    "    config = si.load_config()\n",
    "    if config:\n",
    "        print(f\"📧 Logged in as: {config.email}\")\n",
    "        print(f\"📁 Data directory: {config.data_dir}\")\n",
    "        print(f\"🌐 Server: {config.server_url}\")\n",
    "else:\n",
    "    print(\"❌ SyftBox is not installed\")"
   ]
  },
  {
   "cell_type": "markdown",
   "metadata": {},
   "source": [
    "## 3. Pre-configured Installation\n",
    "\n",
    "If you already know your email, you can skip that prompt:"
   ]
  },
  {
   "cell_type": "code",
   "execution_count": null,
   "metadata": {},
   "outputs": [],
   "source": [
    "import syft_installer as si\n",
    "\n",
    "# Replace with your email\n",
    "installer = si.Installer(email=\"your.email@example.com\")\n",
    "installer.install()  # Will only prompt for OTP"
   ]
  },
  {
   "cell_type": "markdown",
   "metadata": {},
   "source": [
    "## 4. Step-by-Step Installation\n",
    "\n",
    "For more control over the process:"
   ]
  },
  {
   "cell_type": "code",
   "execution_count": null,
   "metadata": {},
   "outputs": [],
   "source": [
    "import syft_installer as si\n",
    "\n",
    "# Create installer\n",
    "installer = si.Installer()\n",
    "\n",
    "# Step 1: Download binary\n",
    "print(\"📥 Downloading SyftBox binary...\")\n",
    "installer.download_binary()\n",
    "print(\"✅ Binary downloaded\")\n",
    "\n",
    "# Step 2: Setup environment\n",
    "print(\"\\n🔧 Setting up environment...\")\n",
    "installer.setup_environment()\n",
    "print(\"✅ Environment ready\")"
   ]
  },
  {
   "cell_type": "code",
   "execution_count": null,
   "metadata": {},
   "outputs": [],
   "source": [
    "# Step 3: Request OTP\n",
    "email = input(\"Enter your email: \")\n",
    "print(f\"\\n📧 Requesting OTP for {email}...\")\n",
    "installer.request_otp(email)\n",
    "print(\"✅ OTP sent! Check your email (including spam folder)\")"
   ]
  },
  {
   "cell_type": "code",
   "execution_count": null,
   "metadata": {},
   "outputs": [],
   "source": [
    "# Step 4: Verify OTP\n",
    "otp = input(\"Enter the 8-character OTP from your email: \")\n",
    "print(\"\\n🔐 Verifying OTP...\")\n",
    "installer.verify_otp(otp)\n",
    "print(\"✅ Authentication successful!\")"
   ]
  },
  {
   "cell_type": "markdown",
   "metadata": {},
   "source": [
    "## 5. Managing SyftBox Client\n",
    "\n",
    "Once installed, you can start, stop, and check the client status:"
   ]
  },
  {
   "cell_type": "code",
   "execution_count": null,
   "metadata": {},
   "outputs": [],
   "source": [
    "# Check if client is running\n",
    "if si.is_running():\n",
    "    print(\"✅ SyftBox client is running\")\n",
    "else:\n",
    "    print(\"❌ SyftBox client is not running\")"
   ]
  },
  {
   "cell_type": "code",
   "execution_count": null,
   "metadata": {},
   "outputs": [],
   "source": [
    "# Start the client in background\n",
    "print(\"🚀 Starting SyftBox client...\")\n",
    "si.start_client(background=True)\n",
    "print(\"✅ Client started in background\")"
   ]
  },
  {
   "cell_type": "code",
   "execution_count": null,
   "metadata": {},
   "outputs": [],
   "source": [
    "# Stop the client\n",
    "print(\"🛑 Stopping SyftBox client...\")\n",
    "si.stop_client()\n",
    "print(\"✅ Client stopped\")"
   ]
  },
  {
   "cell_type": "markdown",
   "metadata": {},
   "source": [
    "## 6. Environment Detection\n",
    "\n",
    "The library automatically detects your environment:"
   ]
  },
  {
   "cell_type": "code",
   "execution_count": null,
   "metadata": {},
   "outputs": [],
   "source": [
    "from syft_installer.runtime import RuntimeEnvironment\n",
    "\n",
    "runtime = RuntimeEnvironment()\n",
    "\n",
    "print(f\"🖥️  Running in notebook: {runtime.is_notebook}\")\n",
    "print(f\"🌐 Running in Colab: {runtime.is_colab}\")\n",
    "print(f\"💻 Has terminal: {runtime.has_tty}\")\n",
    "print(f\"🎛️  Can use widgets: {runtime.can_use_widgets}\")\n",
    "print(f\"📁 Default data dir: {runtime.default_data_dir}\")"
   ]
  },
  {
   "cell_type": "markdown",
   "metadata": {},
   "source": [
    "## 7. Platform Detection\n",
    "\n",
    "Check your system platform:"
   ]
  },
  {
   "cell_type": "code",
   "execution_count": null,
   "metadata": {},
   "outputs": [],
   "source": [
    "from syft_installer.platform import get_platform_info, get_binary_url\n",
    "\n",
    "os_name, arch = get_platform_info()\n",
    "print(f\"🖥️  OS: {os_name}\")\n",
    "print(f\"🏗️  Architecture: {arch}\")\n",
    "print(f\"📥 Binary URL: {get_binary_url()}\")"
   ]
  },
  {
   "cell_type": "markdown",
   "metadata": {},
   "source": [
    "## 8. Programmatic Installation (No Prompts)\n",
    "\n",
    "For fully automated installation:"
   ]
  },
  {
   "cell_type": "code",
   "execution_count": null,
   "metadata": {},
   "outputs": [],
   "source": [
    "import syft_installer as si\n",
    "\n",
    "# This example shows how to do it programmatically\n",
    "# You would need to implement get_otp_from_email() yourself\n",
    "\n",
    "def automated_install(email: str):\n",
    "    \"\"\"Example of fully automated installation.\"\"\"\n",
    "    installer = si.Installer(email=email, headless=True)\n",
    "    \n",
    "    # Request OTP\n",
    "    installer.request_otp()\n",
    "    print(f\"OTP sent to {email}\")\n",
    "    \n",
    "    # In real usage, you'd get this programmatically\n",
    "    # For example, by reading from an email API\n",
    "    otp = input(\"Enter OTP for demo: \")\n",
    "    \n",
    "    # Verify and complete installation\n",
    "    installer.verify_otp(otp)\n",
    "    installer.start_client(background=True)\n",
    "    \n",
    "    print(\"Installation complete!\")\n",
    "\n",
    "# Uncomment to test:\n",
    "# automated_install(\"your.email@example.com\")"
   ]
  },
  {
   "cell_type": "markdown",
   "metadata": {},
   "source": [
    "## 9. Error Handling\n",
    "\n",
    "The library provides specific exceptions for different error cases:"
   ]
  },
  {
   "cell_type": "code",
   "execution_count": null,
   "metadata": {},
   "outputs": [],
   "source": [
    "import syft_installer as si\n",
    "from syft_installer.exceptions import (\n",
    "    AuthenticationError,\n",
    "    ValidationError,\n",
    "    PlatformError,\n",
    "    DownloadError\n",
    ")\n",
    "\n",
    "try:\n",
    "    installer = si.Installer()\n",
    "    installer.verify_otp(\"INVALID\")  # This will fail\n",
    "except ValidationError as e:\n",
    "    print(f\"❌ Validation error: {e}\")\n",
    "except AuthenticationError as e:\n",
    "    print(f\"❌ Authentication error: {e}\")\n",
    "except Exception as e:\n",
    "    print(f\"❌ Unexpected error: {e}\")"
   ]
  },
  {
   "cell_type": "markdown",
   "metadata": {},
   "source": [
    "## 10. Google Colab Specific\n",
    "\n",
    "When running in Google Colab, the library automatically:\n",
    "- Uses `/content/SyftBox` as the data directory\n",
    "- Uses widgets for input when available\n",
    "- Handles background processes appropriately\n",
    "\n",
    "The same code works everywhere!"
   ]
  },
  {
   "cell_type": "code",
   "execution_count": null,
   "metadata": {},
   "outputs": [],
   "source": [
    "# This code works the same in Colab, Jupyter, or terminal\n",
    "import syft_installer as si\n",
    "\n",
    "# The library adapts to your environment automatically\n",
    "si.install()"
   ]
  },
  {
   "cell_type": "markdown",
   "metadata": {},
   "source": [
    "## Troubleshooting\n",
    "\n",
    "### Common Issues:\n",
    "\n",
    "1. **OTP not received**: Check your spam folder\n",
    "2. **Invalid OTP**: Make sure it's 8 uppercase letters/numbers\n",
    "3. **Platform not supported**: Currently only Linux and macOS are supported\n",
    "4. **Permission denied**: Make sure you have write access to `~/.local/bin`\n",
    "\n",
    "### Debug Mode:\n",
    "\n",
    "Enable logging to see what's happening:"
   ]
  },
  {
   "cell_type": "code",
   "execution_count": null,
   "metadata": {},
   "outputs": [],
   "source": [
    "import logging\n",
    "import syft_installer as si\n",
    "\n",
    "# Enable debug logging\n",
    "logging.basicConfig(level=logging.DEBUG)\n",
    "\n",
    "# Now operations will show debug output\n",
    "installer = si.Installer()\n",
    "# installer.install()"
   ]
  }
 ],
 "metadata": {
  "kernelspec": {
   "display_name": "Python 3",
   "language": "python",
   "name": "python3"
  },
  "language_info": {
   "codemirror_mode": {
    "name": "ipython",
    "version": 3
   },
   "file_extension": ".py",
   "mimetype": "text/x-python",
   "name": "python",
   "nbconvert_exporter": "python",
   "pygments_lexer": "ipython3",
   "version": "3.8.0"
  }
 },
 "nbformat": 4,
 "nbformat_minor": 4
}