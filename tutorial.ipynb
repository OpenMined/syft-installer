{
 "cells": [
  {
   "cell_type": "markdown",
   "metadata": {},
   "source": [
    "# SyftBox Installer Tutorial\n",
    "\n",
    "This notebook demonstrates how to use the `syft-installer` Python library to install and run SyftBox programmatically.\n",
    "\n",
    "## Installation\n",
    "\n",
    "First, let's install the library from the local directory (for testing):"
   ]
  },
  {
   "cell_type": "code",
   "execution_count": null,
   "metadata": {},
   "outputs": [],
   "source": [
    "# Install from local directory\n",
    "!pip install -e /Users/atrask/Documents/GitHub/syft-installer"
   ]
  },
  {
   "cell_type": "markdown",
   "metadata": {},
   "source": [
    "## 1. Quick Installation (One-liner)\n",
    "\n",
    "The simplest way to install SyftBox:"
   ]
  },
  {
   "cell_type": "code",
   "execution_count": 1,
   "metadata": {},
   "outputs": [
    {
     "data": {
      "application/vnd.jupyter.widget-view+json": {
       "model_id": "a6f6899ec7b7434093df7de1628fb1b5",
       "version_major": 2,
       "version_minor": 0
      },
      "text/plain": [
       "Label(value='test')"
      ]
     },
     "metadata": {},
     "output_type": "display_data"
    },
    {
     "data": {
      "application/vnd.jupyter.widget-view+json": {
       "model_id": "cbdc2cda8aeb4b6aa6c1127a80d8e070",
       "version_major": 2,
       "version_minor": 0
      },
      "text/plain": [
       "VBox(children=(IntProgress(value=0, bar_style='info', description='Progress:'), Label(value='Starting SyftBox …"
      ]
     },
     "metadata": {},
     "output_type": "display_data"
    },
    {
     "data": {
      "application/vnd.jupyter.widget-view+json": {
       "model_id": "1d53f750e79b46699b35368926b6a4a4",
       "version_major": 2,
       "version_minor": 0
      },
      "text/plain": [
       "Output()"
      ]
     },
     "metadata": {},
     "output_type": "display_data"
    },
    {
     "data": {
      "text/html": [
       "<pre style=\"white-space:pre;overflow-x:auto;line-height:normal;font-family:Menlo,'DejaVu Sans Mono',consolas,'Courier New',monospace\"></pre>\n"
      ],
      "text/plain": []
     },
     "metadata": {},
     "output_type": "display_data"
    },
    {
     "data": {
      "application/vnd.jupyter.widget-view+json": {
       "model_id": "5f4afdd26fe94c2b88cc043ed08a8212",
       "version_major": 2,
       "version_minor": 0
      },
      "text/plain": [
       "HTML(value='<div style=\"color: red;\">✗ Installation failed: Failed to extract binary: Binary not found in tarb…"
      ]
     },
     "metadata": {},
     "output_type": "display_data"
    },
    {
     "ename": "DownloadError",
     "evalue": "Failed to extract binary: Binary not found in tarball",
     "output_type": "error",
     "traceback": [
      "\u001b[31m---------------------------------------------------------------------------\u001b[39m",
      "\u001b[31mDownloadError\u001b[39m                             Traceback (most recent call last)",
      "\u001b[36mFile \u001b[39m\u001b[32m~/Documents/GitHub/syft-installer/syft_installer/downloader.py:90\u001b[39m, in \u001b[36mDownloader._extract_binary\u001b[39m\u001b[34m(self, tarball_path, extract_dir)\u001b[39m\n\u001b[32m     88\u001b[39m             \u001b[38;5;28;01mreturn\u001b[39;00m item\n\u001b[32m---> \u001b[39m\u001b[32m90\u001b[39m     \u001b[38;5;28;01mraise\u001b[39;00m DownloadError(\u001b[33m\"\u001b[39m\u001b[33mBinary not found in tarball\u001b[39m\u001b[33m\"\u001b[39m)\n\u001b[32m     92\u001b[39m \u001b[38;5;28;01mexcept\u001b[39;00m \u001b[38;5;167;01mException\u001b[39;00m \u001b[38;5;28;01mas\u001b[39;00m e:\n",
      "\u001b[31mDownloadError\u001b[39m: Binary not found in tarball",
      "\nDuring handling of the above exception, another exception occurred:\n",
      "\u001b[31mDownloadError\u001b[39m                             Traceback (most recent call last)",
      "\u001b[36mCell\u001b[39m\u001b[36m \u001b[39m\u001b[32mIn[1]\u001b[39m\u001b[32m, line 4\u001b[39m\n\u001b[32m      1\u001b[39m \u001b[38;5;28;01mimport\u001b[39;00m\u001b[38;5;250m \u001b[39m\u001b[34;01msyft_installer\u001b[39;00m\u001b[38;5;250m \u001b[39m\u001b[38;5;28;01mas\u001b[39;00m\u001b[38;5;250m \u001b[39m\u001b[34;01msi\u001b[39;00m\n\u001b[32m      3\u001b[39m \u001b[38;5;66;03m# This will prompt for email and OTP\u001b[39;00m\n\u001b[32m----> \u001b[39m\u001b[32m4\u001b[39m \u001b[43msi\u001b[49m\u001b[43m.\u001b[49m\u001b[43minstall\u001b[49m\u001b[43m(\u001b[49m\u001b[43m)\u001b[49m\n",
      "\u001b[36mFile \u001b[39m\u001b[32m~/Documents/GitHub/syft-installer/syft_installer/__init__.py:10\u001b[39m, in \u001b[36minstall\u001b[39m\u001b[34m(**kwargs)\u001b[39m\n\u001b[32m      8\u001b[39m \u001b[38;5;250m\u001b[39m\u001b[33;03m\"\"\"Quick install function for one-liner usage.\"\"\"\u001b[39;00m\n\u001b[32m      9\u001b[39m installer = Installer(**kwargs)\n\u001b[32m---> \u001b[39m\u001b[32m10\u001b[39m \u001b[38;5;28;01mreturn\u001b[39;00m \u001b[43minstaller\u001b[49m\u001b[43m.\u001b[49m\u001b[43minstall\u001b[49m\u001b[43m(\u001b[49m\u001b[43m)\u001b[49m\n",
      "\u001b[36mFile \u001b[39m\u001b[32m~/Documents/GitHub/syft-installer/syft_installer/installer.py:69\u001b[39m, in \u001b[36mInstaller.install\u001b[39m\u001b[34m(self)\u001b[39m\n\u001b[32m     67\u001b[39m \u001b[38;5;66;03m# Download and install binary\u001b[39;00m\n\u001b[32m     68\u001b[39m \u001b[38;5;28mself\u001b[39m.progress.update(\u001b[33m\"\u001b[39m\u001b[33mDownloading SyftBox binary\u001b[39m\u001b[33m\"\u001b[39m, \u001b[32m20\u001b[39m)\n\u001b[32m---> \u001b[39m\u001b[32m69\u001b[39m \u001b[38;5;28;43mself\u001b[39;49m\u001b[43m.\u001b[49m\u001b[43mdownload_binary\u001b[49m\u001b[43m(\u001b[49m\u001b[43m)\u001b[49m\n\u001b[32m     71\u001b[39m \u001b[38;5;66;03m# Setup environment\u001b[39;00m\n\u001b[32m     72\u001b[39m \u001b[38;5;28mself\u001b[39m.progress.update(\u001b[33m\"\u001b[39m\u001b[33mSetting up environment\u001b[39m\u001b[33m\"\u001b[39m, \u001b[32m40\u001b[39m)\n",
      "\u001b[36mFile \u001b[39m\u001b[32m~/Documents/GitHub/syft-installer/syft_installer/installer.py:96\u001b[39m, in \u001b[36mInstaller.download_binary\u001b[39m\u001b[34m(self)\u001b[39m\n\u001b[32m     94\u001b[39m \u001b[38;5;250m\u001b[39m\u001b[33;03m\"\"\"Download and install SyftBox binary.\"\"\"\u001b[39;00m\n\u001b[32m     95\u001b[39m binary_path = Path.home() / \u001b[33m\"\u001b[39m\u001b[33m.local\u001b[39m\u001b[33m\"\u001b[39m / \u001b[33m\"\u001b[39m\u001b[33mbin\u001b[39m\u001b[33m\"\u001b[39m / \u001b[33m\"\u001b[39m\u001b[33msyftbox\u001b[39m\u001b[33m\"\u001b[39m\n\u001b[32m---> \u001b[39m\u001b[32m96\u001b[39m \u001b[38;5;28;43mself\u001b[39;49m\u001b[43m.\u001b[49m\u001b[43mdownloader\u001b[49m\u001b[43m.\u001b[49m\u001b[43mdownload_and_install\u001b[49m\u001b[43m(\u001b[49m\u001b[43mbinary_path\u001b[49m\u001b[43m)\u001b[49m\n",
      "\u001b[36mFile \u001b[39m\u001b[32m~/Documents/GitHub/syft-installer/syft_installer/downloader.py:42\u001b[39m, in \u001b[36mDownloader.download_and_install\u001b[39m\u001b[34m(self, target_path)\u001b[39m\n\u001b[32m     39\u001b[39m \u001b[38;5;28mself\u001b[39m._download_file(url, tarball_path)\n\u001b[32m     41\u001b[39m \u001b[38;5;66;03m# Extract binary\u001b[39;00m\n\u001b[32m---> \u001b[39m\u001b[32m42\u001b[39m binary_path = \u001b[38;5;28;43mself\u001b[39;49m\u001b[43m.\u001b[49m\u001b[43m_extract_binary\u001b[49m\u001b[43m(\u001b[49m\u001b[43mtarball_path\u001b[49m\u001b[43m,\u001b[49m\u001b[43m \u001b[49m\u001b[43mtemp_dir\u001b[49m\u001b[43m)\u001b[49m\n\u001b[32m     44\u001b[39m \u001b[38;5;66;03m# Install binary\u001b[39;00m\n\u001b[32m     45\u001b[39m \u001b[38;5;28mself\u001b[39m._install_binary(binary_path, target_path)\n",
      "\u001b[36mFile \u001b[39m\u001b[32m~/Documents/GitHub/syft-installer/syft_installer/downloader.py:93\u001b[39m, in \u001b[36mDownloader._extract_binary\u001b[39m\u001b[34m(self, tarball_path, extract_dir)\u001b[39m\n\u001b[32m     90\u001b[39m     \u001b[38;5;28;01mraise\u001b[39;00m DownloadError(\u001b[33m\"\u001b[39m\u001b[33mBinary not found in tarball\u001b[39m\u001b[33m\"\u001b[39m)\n\u001b[32m     92\u001b[39m \u001b[38;5;28;01mexcept\u001b[39;00m \u001b[38;5;167;01mException\u001b[39;00m \u001b[38;5;28;01mas\u001b[39;00m e:\n\u001b[32m---> \u001b[39m\u001b[32m93\u001b[39m     \u001b[38;5;28;01mraise\u001b[39;00m DownloadError(\u001b[33mf\u001b[39m\u001b[33m\"\u001b[39m\u001b[33mFailed to extract binary: \u001b[39m\u001b[38;5;132;01m{\u001b[39;00m\u001b[38;5;28mstr\u001b[39m(e)\u001b[38;5;132;01m}\u001b[39;00m\u001b[33m\"\u001b[39m)\n",
      "\u001b[31mDownloadError\u001b[39m: Failed to extract binary: Binary not found in tarball"
     ]
    }
   ],
   "source": [
    "import syft_installer as si\n",
    "\n",
    "# This will prompt for email and OTP\n",
    "si.install()"
   ]
  },
  {
   "cell_type": "markdown",
   "metadata": {},
   "source": [
    "## 2. Check Installation Status\n",
    "\n",
    "Let's check if SyftBox is already installed:"
   ]
  },
  {
   "cell_type": "code",
   "execution_count": null,
   "metadata": {},
   "outputs": [],
   "source": [
    "import syft_installer as si\n",
    "\n",
    "# Check if installed\n",
    "if si.is_installed():\n",
    "    print(\"✅ SyftBox is installed\")\n",
    "    \n",
    "    # Load configuration\n",
    "    config = si.load_config()\n",
    "    if config:\n",
    "        print(f\"📧 Logged in as: {config.email}\")\n",
    "        print(f\"📁 Data directory: {config.data_dir}\")\n",
    "        print(f\"🌐 Server: {config.server_url}\")\n",
    "else:\n",
    "    print(\"❌ SyftBox is not installed\")"
   ]
  },
  {
   "cell_type": "markdown",
   "metadata": {},
   "source": [
    "## 3. Pre-configured Installation\n",
    "\n",
    "If you already know your email, you can skip that prompt:"
   ]
  },
  {
   "cell_type": "code",
   "execution_count": null,
   "metadata": {},
   "outputs": [],
   "source": [
    "import syft_installer as si\n",
    "\n",
    "# Replace with your email\n",
    "installer = si.Installer(email=\"your.email@example.com\")\n",
    "installer.install()  # Will only prompt for OTP"
   ]
  },
  {
   "cell_type": "markdown",
   "metadata": {},
   "source": [
    "## 4. Step-by-Step Installation\n",
    "\n",
    "For more control over the process:"
   ]
  },
  {
   "cell_type": "code",
   "execution_count": null,
   "metadata": {},
   "outputs": [],
   "source": [
    "import syft_installer as si\n",
    "\n",
    "# Create installer\n",
    "installer = si.Installer()\n",
    "\n",
    "# Step 1: Download binary\n",
    "print(\"📥 Downloading SyftBox binary...\")\n",
    "installer.download_binary()\n",
    "print(\"✅ Binary downloaded\")\n",
    "\n",
    "# Step 2: Setup environment\n",
    "print(\"\\n🔧 Setting up environment...\")\n",
    "installer.setup_environment()\n",
    "print(\"✅ Environment ready\")"
   ]
  },
  {
   "cell_type": "code",
   "execution_count": null,
   "metadata": {},
   "outputs": [],
   "source": [
    "# Step 3: Request OTP\n",
    "email = input(\"Enter your email: \")\n",
    "print(f\"\\n📧 Requesting OTP for {email}...\")\n",
    "installer.request_otp(email)\n",
    "print(\"✅ OTP sent! Check your email (including spam folder)\")"
   ]
  },
  {
   "cell_type": "code",
   "execution_count": null,
   "metadata": {},
   "outputs": [],
   "source": [
    "# Step 4: Verify OTP\n",
    "otp = input(\"Enter the 8-character OTP from your email: \")\n",
    "print(\"\\n🔐 Verifying OTP...\")\n",
    "installer.verify_otp(otp)\n",
    "print(\"✅ Authentication successful!\")"
   ]
  },
  {
   "cell_type": "markdown",
   "metadata": {},
   "source": [
    "## 5. Managing SyftBox Client\n",
    "\n",
    "Once installed, you can start, stop, and check the client status:"
   ]
  },
  {
   "cell_type": "code",
   "execution_count": null,
   "metadata": {},
   "outputs": [],
   "source": [
    "# Check if client is running\n",
    "if si.is_running():\n",
    "    print(\"✅ SyftBox client is running\")\n",
    "else:\n",
    "    print(\"❌ SyftBox client is not running\")"
   ]
  },
  {
   "cell_type": "code",
   "execution_count": null,
   "metadata": {},
   "outputs": [],
   "source": [
    "# Start the client in background\n",
    "print(\"🚀 Starting SyftBox client...\")\n",
    "si.start_client(background=True)\n",
    "print(\"✅ Client started in background\")"
   ]
  },
  {
   "cell_type": "code",
   "execution_count": null,
   "metadata": {},
   "outputs": [],
   "source": [
    "# Stop the client\n",
    "print(\"🛑 Stopping SyftBox client...\")\n",
    "si.stop_client()\n",
    "print(\"✅ Client stopped\")"
   ]
  },
  {
   "cell_type": "markdown",
   "metadata": {},
   "source": [
    "## 6. Environment Detection\n",
    "\n",
    "The library automatically detects your environment:"
   ]
  },
  {
   "cell_type": "code",
   "execution_count": null,
   "metadata": {},
   "outputs": [],
   "source": [
    "from syft_installer.runtime import RuntimeEnvironment\n",
    "\n",
    "runtime = RuntimeEnvironment()\n",
    "\n",
    "print(f\"🖥️  Running in notebook: {runtime.is_notebook}\")\n",
    "print(f\"🌐 Running in Colab: {runtime.is_colab}\")\n",
    "print(f\"💻 Has terminal: {runtime.has_tty}\")\n",
    "print(f\"🎛️  Can use widgets: {runtime.can_use_widgets}\")\n",
    "print(f\"📁 Default data dir: {runtime.default_data_dir}\")"
   ]
  },
  {
   "cell_type": "markdown",
   "metadata": {},
   "source": [
    "## 7. Platform Detection\n",
    "\n",
    "Check your system platform:"
   ]
  },
  {
   "cell_type": "code",
   "execution_count": null,
   "metadata": {},
   "outputs": [],
   "source": [
    "from syft_installer.platform import get_platform_info, get_binary_url\n",
    "\n",
    "os_name, arch = get_platform_info()\n",
    "print(f\"🖥️  OS: {os_name}\")\n",
    "print(f\"🏗️  Architecture: {arch}\")\n",
    "print(f\"📥 Binary URL: {get_binary_url()}\")"
   ]
  },
  {
   "cell_type": "markdown",
   "metadata": {},
   "source": [
    "## 8. Programmatic Installation (No Prompts)\n",
    "\n",
    "For fully automated installation:"
   ]
  },
  {
   "cell_type": "code",
   "execution_count": null,
   "metadata": {},
   "outputs": [],
   "source": [
    "import syft_installer as si\n",
    "\n",
    "# This example shows how to do it programmatically\n",
    "# You would need to implement get_otp_from_email() yourself\n",
    "\n",
    "def automated_install(email: str):\n",
    "    \"\"\"Example of fully automated installation.\"\"\"\n",
    "    installer = si.Installer(email=email, headless=True)\n",
    "    \n",
    "    # Request OTP\n",
    "    installer.request_otp()\n",
    "    print(f\"OTP sent to {email}\")\n",
    "    \n",
    "    # In real usage, you'd get this programmatically\n",
    "    # For example, by reading from an email API\n",
    "    otp = input(\"Enter OTP for demo: \")\n",
    "    \n",
    "    # Verify and complete installation\n",
    "    installer.verify_otp(otp)\n",
    "    installer.start_client(background=True)\n",
    "    \n",
    "    print(\"Installation complete!\")\n",
    "\n",
    "# Uncomment to test:\n",
    "# automated_install(\"your.email@example.com\")"
   ]
  },
  {
   "cell_type": "markdown",
   "metadata": {},
   "source": [
    "## 9. Error Handling\n",
    "\n",
    "The library provides specific exceptions for different error cases:"
   ]
  },
  {
   "cell_type": "code",
   "execution_count": null,
   "metadata": {},
   "outputs": [],
   "source": [
    "import syft_installer as si\n",
    "from syft_installer.exceptions import (\n",
    "    AuthenticationError,\n",
    "    ValidationError,\n",
    "    PlatformError,\n",
    "    DownloadError\n",
    ")\n",
    "\n",
    "try:\n",
    "    installer = si.Installer()\n",
    "    installer.verify_otp(\"INVALID\")  # This will fail\n",
    "except ValidationError as e:\n",
    "    print(f\"❌ Validation error: {e}\")\n",
    "except AuthenticationError as e:\n",
    "    print(f\"❌ Authentication error: {e}\")\n",
    "except Exception as e:\n",
    "    print(f\"❌ Unexpected error: {e}\")"
   ]
  },
  {
   "cell_type": "markdown",
   "metadata": {},
   "source": [
    "## 10. Google Colab Specific\n",
    "\n",
    "When running in Google Colab, the library automatically:\n",
    "- Uses `/content/SyftBox` as the data directory\n",
    "- Uses widgets for input when available\n",
    "- Handles background processes appropriately\n",
    "\n",
    "The same code works everywhere!"
   ]
  },
  {
   "cell_type": "code",
   "execution_count": null,
   "metadata": {},
   "outputs": [],
   "source": [
    "# This code works the same in Colab, Jupyter, or terminal\n",
    "import syft_installer as si\n",
    "\n",
    "# The library adapts to your environment automatically\n",
    "si.install()"
   ]
  },
  {
   "cell_type": "markdown",
   "metadata": {},
   "source": [
    "## Troubleshooting\n",
    "\n",
    "### Common Issues:\n",
    "\n",
    "1. **OTP not received**: Check your spam folder\n",
    "2. **Invalid OTP**: Make sure it's 8 uppercase letters/numbers\n",
    "3. **Platform not supported**: Currently only Linux and macOS are supported\n",
    "4. **Permission denied**: Make sure you have write access to `~/.local/bin`\n",
    "\n",
    "### Debug Mode:\n",
    "\n",
    "Enable logging to see what's happening:"
   ]
  },
  {
   "cell_type": "code",
   "execution_count": null,
   "metadata": {},
   "outputs": [],
   "source": [
    "import logging\n",
    "import syft_installer as si\n",
    "\n",
    "# Enable debug logging\n",
    "logging.basicConfig(level=logging.DEBUG)\n",
    "\n",
    "# Now operations will show debug output\n",
    "installer = si.Installer()\n",
    "# installer.install()"
   ]
  }
 ],
 "metadata": {
  "kernelspec": {
   "display_name": "Python 3 (ipykernel)",
   "language": "python",
   "name": "python3"
  },
  "language_info": {
   "codemirror_mode": {
    "name": "ipython",
    "version": 3
   },
   "file_extension": ".py",
   "mimetype": "text/x-python",
   "name": "python",
   "nbconvert_exporter": "python",
   "pygments_lexer": "ipython3",
   "version": "3.12.7"
  }
 },
 "nbformat": 4,
 "nbformat_minor": 4
}
