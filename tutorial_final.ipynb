{
 "cells": [
  {
   "cell_type": "markdown",
   "metadata": {},
   "source": [
    "# SyftBox Installer Tutorial\n",
    "\n",
    "This tutorial demonstrates how to use `syft-installer` to install and run SyftBox.\n",
    "\n",
    "## Overview\n",
    "\n",
    "The `syft-installer` provides a Python-based installation method that:\n",
    "- Downloads the SyftBox binary for your platform\n",
    "- Handles authentication via email/OTP\n",
    "- Creates the configuration file\n",
    "- Manages the SyftBox client process\n",
    "\n",
    "## Installation\n",
    "\n",
    "First, install the library:"
   ]
  },
  {
   "cell_type": "code",
   "execution_count": null,
   "metadata": {},
   "outputs": [],
   "source": [
    "# Install from local directory (for development)\n",
    "!pip install -e /Users/atrask/Documents/GitHub/syft-installer\n",
    "\n",
    "# Or install from PyPI (when published)\n",
    "# !pip install syft-installer"
   ]
  },
  {
   "cell_type": "markdown",
   "metadata": {},
   "source": [
    "## 1. Quick Installation\n",
    "\n",
    "The simplest way to install SyftBox with all defaults:"
   ]
  },
  {
   "cell_type": "code",
   "execution_count": null,
   "metadata": {},
   "outputs": [],
   "source": [
    "import syft_installer as si\n",
    "\n",
    "# One-line installation\n",
    "# This will:\n",
    "# 1. Download the SyftBox binary\n",
    "# 2. Set up the environment\n",
    "# 3. Prompt for email and OTP\n",
    "# 4. Create configuration\n",
    "# 5. Optionally start the client\n",
    "si.install()"
   ]
  },
  {
   "cell_type": "markdown",
   "metadata": {},
   "source": [
    "## 2. Pre-configured Installation\n",
    "\n",
    "If you know your email address, you can skip that prompt:"
   ]
  },
  {
   "cell_type": "code",
   "execution_count": null,
   "metadata": {},
   "outputs": [],
   "source": [
    "import syft_installer as si\n",
    "\n",
    "# Replace with your actual email\n",
    "installer = si.Installer(email=\"your.email@example.com\")\n",
    "installer.install()  # Will only prompt for the OTP"
   ]
  },
  {
   "cell_type": "markdown",
   "metadata": {},
   "source": [
    "## 3. Step-by-Step Installation\n",
    "\n",
    "For more control, you can run each step separately:"
   ]
  },
  {
   "cell_type": "code",
   "execution_count": null,
   "metadata": {},
   "outputs": [],
   "source": [
    "import syft_installer as si\n",
    "\n",
    "# Create installer\n",
    "installer = si.Installer()\n",
    "\n",
    "# Step 1: Download the SyftBox binary\n",
    "print(\"📥 Downloading SyftBox binary...\")\n",
    "installer.download_binary()\n",
    "print(\"✅ Download complete!\")"
   ]
  },
  {
   "cell_type": "code",
   "execution_count": null,
   "metadata": {},
   "outputs": [],
   "source": [
    "# Step 2: Set up the environment\n",
    "print(\"🔧 Setting up environment...\")\n",
    "installer.setup_environment()\n",
    "print(\"✅ Environment ready!\")"
   ]
  },
  {
   "cell_type": "code",
   "execution_count": null,
   "metadata": {},
   "outputs": [],
   "source": [
    "# Step 3: Authentication - Request OTP\n",
    "email = input(\"Enter your email address: \")\n",
    "print(f\"\\n📧 Requesting OTP for {email}...\")\n",
    "installer.request_otp(email)\n",
    "print(\"✅ OTP sent! Check your email (including spam folder)\")"
   ]
  },
  {
   "cell_type": "code",
   "execution_count": null,
   "metadata": {},
   "outputs": [],
   "source": [
    "# Step 4: Verify OTP\n",
    "otp = input(\"Enter the 8-character OTP from your email: \")\n",
    "print(\"\\n🔐 Verifying OTP...\")\n",
    "installer.verify_otp(otp.upper())  # OTP should be uppercase\n",
    "print(\"✅ Authentication successful!\")"
   ]
  },
  {
   "cell_type": "code",
   "execution_count": null,
   "metadata": {},
   "outputs": [],
   "source": [
    "# Step 5: Start the client (optional)\n",
    "print(\"🚀 Starting SyftBox client...\")\n",
    "installer.start_client(background=True)\n",
    "print(\"✅ SyftBox is running!\")"
   ]
  },
  {
   "cell_type": "markdown",
   "metadata": {},
   "source": [
    "## 4. Check Installation Status\n",
    "\n",
    "You can check if SyftBox is installed and running:"
   ]
  },
  {
   "cell_type": "code",
   "execution_count": null,
   "metadata": {},
   "outputs": [],
   "source": [
    "import syft_installer as si\n",
    "\n",
    "# Check if installed\n",
    "if si.is_installed():\n",
    "    print(\"✅ SyftBox is installed\")\n",
    "    \n",
    "    # Load and display configuration\n",
    "    config = si.load_config()\n",
    "    if config:\n",
    "        print(f\"\\n📧 Email: {config.email}\")\n",
    "        print(f\"📁 Data directory: {config.data_dir}\")\n",
    "        print(f\"🌐 Server: {config.server_url}\")\n",
    "        print(f\"🔧 Config location: {config.config_file}\")\n",
    "        print(f\"⚙️  Binary location: {config.binary_path}\")\n",
    "else:\n",
    "    print(\"❌ SyftBox is not installed\")\n",
    "\n",
    "# Check if running\n",
    "if si.is_running():\n",
    "    print(\"\\n✅ SyftBox client is running\")\n",
    "else:\n",
    "    print(\"\\n❌ SyftBox client is not running\")"
   ]
  },
  {
   "cell_type": "markdown",
   "metadata": {},
   "source": [
    "## 5. Managing the SyftBox Client\n",
    "\n",
    "Start, stop, and restart the client:"
   ]
  },
  {
   "cell_type": "code",
   "execution_count": null,
   "metadata": {},
   "outputs": [],
   "source": [
    "import syft_installer as si\n",
    "\n",
    "# Start the client (if not already running)\n",
    "if not si.is_running():\n",
    "    print(\"Starting SyftBox client...\")\n",
    "    si.start_client(background=True)\n",
    "    print(\"✅ Client started\")\n",
    "else:\n",
    "    print(\"Client is already running\")"
   ]
  },
  {
   "cell_type": "code",
   "execution_count": null,
   "metadata": {},
   "outputs": [],
   "source": [
    "# Stop the client\n",
    "if si.is_running():\n",
    "    print(\"Stopping SyftBox client...\")\n",
    "    si.stop_client()\n",
    "    print(\"✅ Client stopped\")\n",
    "else:\n",
    "    print(\"Client is not running\")"
   ]
  },
  {
   "cell_type": "markdown",
   "metadata": {},
   "source": [
    "## 6. Installation Modes\n",
    "\n",
    "The installer supports different modes (like install.sh):"
   ]
  },
  {
   "cell_type": "code",
   "execution_count": null,
   "metadata": {},
   "outputs": [],
   "source": [
    "import syft_installer as si\n",
    "\n",
    "# Download only mode - just downloads the binary\n",
    "si.install(install_mode=\"download-only\")\n",
    "print(\"Binary downloaded to ~/.local/bin/syftbox\")"
   ]
  },
  {
   "cell_type": "code",
   "execution_count": null,
   "metadata": {},
   "outputs": [],
   "source": [
    "# Setup only mode - assumes binary exists\n",
    "si.install(install_mode=\"setup-only\")\n",
    "print(\"Setup completed (PATH updated, old versions removed)\")"
   ]
  },
  {
   "cell_type": "code",
   "execution_count": null,
   "metadata": {},
   "outputs": [],
   "source": [
    "# Interactive mode (default) - full installation\n",
    "si.install(install_mode=\"interactive\")"
   ]
  },
  {
   "cell_type": "markdown",
   "metadata": {},
   "source": [
    "## 7. Installing Apps\n",
    "\n",
    "Install SyftBox apps during setup:"
   ]
  },
  {
   "cell_type": "code",
   "execution_count": null,
   "metadata": {},
   "outputs": [],
   "source": [
    "import syft_installer as si\n",
    "\n",
    "# Install with specific apps\n",
    "si.install(\n",
    "    email=\"your.email@example.com\",\n",
    "    install_apps=\"cpu_tracker,whisper\"  # Comma-separated list\n",
    ")"
   ]
  },
  {
   "cell_type": "markdown",
   "metadata": {},
   "source": [
    "## 8. Debug Mode\n",
    "\n",
    "Enable debug output to see detailed information:"
   ]
  },
  {
   "cell_type": "code",
   "execution_count": null,
   "metadata": {},
   "outputs": [],
   "source": [
    "import syft_installer as si\n",
    "\n",
    "# Install with debug output\n",
    "si.install(debug=True)\n",
    "\n",
    "# Or set environment variable\n",
    "# export DEBUG=true"
   ]
  },
  {
   "cell_type": "markdown",
   "metadata": {},
   "source": [
    "## 9. Custom Server Configuration\n",
    "\n",
    "Use a custom SyftBox server:"
   ]
  },
  {
   "cell_type": "code",
   "execution_count": null,
   "metadata": {},
   "outputs": [],
   "source": [
    "import syft_installer as si\n",
    "\n",
    "# Use a custom server\n",
    "installer = si.Installer(\n",
    "    email=\"your.email@example.com\",\n",
    "    server_url=\"https://custom.syftbox.server\",\n",
    "    data_dir=\"~/CustomSyftBox\"  # Custom data directory\n",
    ")\n",
    "installer.install()"
   ]
  },
  {
   "cell_type": "markdown",
   "metadata": {},
   "source": [
    "## 10. Programmatic Installation (No Prompts)\n",
    "\n",
    "For fully automated installation in scripts:"
   ]
  },
  {
   "cell_type": "code",
   "execution_count": null,
   "metadata": {},
   "outputs": [],
   "source": [
    "import syft_installer as si\n",
    "import time\n",
    "\n",
    "def automated_install():\n",
    "    \"\"\"Example of fully automated installation.\"\"\"\n",
    "    \n",
    "    # Create installer\n",
    "    installer = si.Installer(\n",
    "        email=\"your.email@example.com\",\n",
    "        headless=True  # No prompts\n",
    "    )\n",
    "    \n",
    "    # Download and setup\n",
    "    installer.download_binary()\n",
    "    installer.setup_environment()\n",
    "    \n",
    "    # Request OTP\n",
    "    installer.request_otp()\n",
    "    print(\"OTP sent to email\")\n",
    "    \n",
    "    # In a real script, you'd get the OTP programmatically\n",
    "    # For example, by polling an email API\n",
    "    otp = input(\"Enter OTP (for demo): \")\n",
    "    \n",
    "    # Complete authentication\n",
    "    installer.verify_otp(otp)\n",
    "    \n",
    "    # Start client\n",
    "    installer.start_client(background=True)\n",
    "    \n",
    "    print(\"✅ Installation complete!\")\n",
    "\n",
    "# Uncomment to run:\n",
    "# automated_install()"
   ]
  },
  {
   "cell_type": "markdown",
   "metadata": {},
   "source": [
    "## 11. Environment Information\n",
    "\n",
    "Check your environment and platform:"
   ]
  },
  {
   "cell_type": "code",
   "execution_count": null,
   "metadata": {},
   "outputs": [],
   "source": [
    "from syft_installer.platform import get_platform_info, get_binary_url\n",
    "from syft_installer.runtime import RuntimeEnvironment\n",
    "\n",
    "# Platform information\n",
    "os_name, arch = get_platform_info()\n",
    "print(\"Platform Information:\")\n",
    "print(f\"  OS: {os_name}\")\n",
    "print(f\"  Architecture: {arch}\")\n",
    "print(f\"  Binary URL: {get_binary_url()}\")\n",
    "\n",
    "# Runtime environment\n",
    "runtime = RuntimeEnvironment()\n",
    "print(\"\\nRuntime Environment:\")\n",
    "print(f\"  In notebook: {runtime.is_notebook}\")\n",
    "print(f\"  In Google Colab: {runtime.is_colab}\")\n",
    "print(f\"  Has terminal: {runtime.has_tty}\")\n",
    "print(f\"  Can use widgets: {runtime.can_use_widgets}\")\n",
    "print(f\"  Default data dir: {runtime.default_data_dir}\")"
   ]
  },
  {
   "cell_type": "markdown",
   "metadata": {},
   "source": [
    "## 12. Using Environment Variables\n",
    "\n",
    "The installer respects environment variables (like install.sh):"
   ]
  },
  {
   "cell_type": "code",
   "execution_count": null,
   "metadata": {},
   "outputs": [],
   "source": [
    "import os\n",
    "import syft_installer as si\n",
    "\n",
    "# Set environment variables\n",
    "os.environ[\"INSTALL_MODE\"] = \"interactive\"\n",
    "os.environ[\"INSTALL_APPS\"] = \"cpu_tracker\"\n",
    "os.environ[\"DEBUG\"] = \"true\"\n",
    "os.environ[\"ARTIFACT_BASE_URL\"] = \"https://syftbox.net\"  # For custom binary location\n",
    "\n",
    "# Install will use these environment variables\n",
    "si.install()"
   ]
  },
  {
   "cell_type": "markdown",
   "metadata": {},
   "source": [
    "## Understanding the Authentication Flow\n",
    "\n",
    "The installer implements the SyftBox authentication flow:\n",
    "\n",
    "1. **Request OTP**: Sends email address to server\n",
    "2. **Email sent**: Server sends 8-character code to your email\n",
    "3. **Verify OTP**: Send email + code back to server\n",
    "4. **Receive tokens**: Get JWT access and refresh tokens\n",
    "5. **Save config**: Create `~/.syftbox/config.json` with refresh token\n",
    "6. **Start client**: Run `syftbox client` which uses the config\n",
    "\n",
    "The config file format:\n",
    "```json\n",
    "{\n",
    "  \"email\": \"user@example.com\",\n",
    "  \"data_dir\": \"/home/user/SyftBox\",\n",
    "  \"server_url\": \"https://api.syftbox.com\",\n",
    "  \"client_url\": \"http://localhost:7938\",\n",
    "  \"refresh_token\": \"eyJ...\"\n",
    "}\n",
    "```\n",
    "\n",
    "## Troubleshooting\n",
    "\n",
    "### Common Issues\n",
    "\n",
    "1. **OTP not received**: \n",
    "   - Check spam/junk folder\n",
    "   - Wait a few minutes\n",
    "   - Try requesting again\n",
    "\n",
    "2. **Invalid OTP error**:\n",
    "   - Make sure it's exactly 8 characters\n",
    "   - Use uppercase letters\n",
    "   - Don't include spaces\n",
    "\n",
    "3. **Binary not found**:\n",
    "   - Run download step: `installer.download_binary()`\n",
    "   - Check `~/.local/bin/syftbox` exists\n",
    "\n",
    "4. **PATH not updated**:\n",
    "   - Restart your shell\n",
    "   - Or run: `source ~/.bashrc` (or `~/.zshrc`)\n",
    "\n",
    "5. **Permission denied**:\n",
    "   - Make sure you have write access to `~/.local/bin`\n",
    "   - Binary should be executable\n",
    "\n",
    "### Debug Tips\n",
    "\n",
    "Enable debug mode to see what's happening:\n",
    "```python\n",
    "si.install(debug=True)\n",
    "```\n",
    "\n",
    "Check the config file:\n",
    "```python\n",
    "!cat ~/.syftbox/config.json\n",
    "```\n",
    "\n",
    "Check if binary exists:\n",
    "```python\n",
    "!ls -la ~/.local/bin/syftbox\n",
    "```\n",
    "\n",
    "## Next Steps\n",
    "\n",
    "Once SyftBox is installed and running:\n",
    "\n",
    "1. Your data directory is at `~/SyftBox` (or `/content/SyftBox` in Colab)\n",
    "2. The client syncs with the SyftBox network\n",
    "3. You can install apps to add functionality\n",
    "4. Check the SyftBox documentation for usage details\n",
    "\n",
    "Happy SyftBoxing! 📦"
   ]
  }
 ],
 "metadata": {
  "kernelspec": {
   "display_name": "Python 3",
   "language": "python",
   "name": "python3"
  },
  "language_info": {
   "codemirror_mode": {
    "name": "ipython",
    "version": 3
   },
   "file_extension": ".py",
   "mimetype": "text/x-python",
   "name": "python",
   "nbconvert_exporter": "python",
   "pygments_lexer": "ipython3",
   "version": "3.8.0"
  }
 },
 "nbformat": 4,
 "nbformat_minor": 4
}