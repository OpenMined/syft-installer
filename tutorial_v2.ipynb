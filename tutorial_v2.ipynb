{
 "cells": [
  {
   "cell_type": "markdown",
   "metadata": {},
   "source": [
    "# SyftBox Installer Tutorial v2\n",
    "\n",
    "This notebook demonstrates the new `syft-installer` that follows the official `install.sh` implementation.\n",
    "\n",
    "## Key Features\n",
    "\n",
    "- 🎯 **Follows install.sh exactly** - Uses the same flow as the official installer\n",
    "- 🖥️ **Terminal mode** - Delegates to `syftbox login` TUI when in terminal\n",
    "- 📓 **Notebook support** - Falls back to programmatic auth in Jupyter/Colab\n",
    "- 🌍 **Environment variables** - Supports all install.sh environment variables\n",
    "\n",
    "## Installation\n",
    "\n",
    "First, let's install the library:"
   ]
  },
  {
   "cell_type": "code",
   "execution_count": null,
   "metadata": {},
   "outputs": [],
   "source": [
    "# Install from local directory (for testing)\n",
    "!pip install -e /Users/atrask/Documents/GitHub/syft-installer\n",
    "\n",
    "# Or install from PyPI when published\n",
    "# !pip install syft-installer"
   ]
  },
  {
   "cell_type": "markdown",
   "metadata": {},
   "source": [
    "## 1. Quick Installation (Follows install.sh)\n",
    "\n",
    "The simplest way to install SyftBox. In notebooks, this will use programmatic authentication:"
   ]
  },
  {
   "cell_type": "code",
   "execution_count": null,
   "metadata": {},
   "outputs": [
    {
     "data": {
      "application/vnd.jupyter.widget-view+json": {
       "model_id": "445d3458788440c1a8006296038e71f1",
       "version_major": 2,
       "version_minor": 0
      },
      "text/plain": [
       "Label(value='test')"
      ]
     },
     "metadata": {},
     "output_type": "display_data"
    },
    {
     "data": {
      "application/vnd.jupyter.widget-view+json": {
       "model_id": "d709c3e11cc645798761f712cceb3e42",
       "version_major": 2,
       "version_minor": 0
      },
      "text/plain": [
       "VBox(children=(IntProgress(value=0, bar_style='info', description='Progress:'), Label(value='Downloading SyftB…"
      ]
     },
     "metadata": {},
     "output_type": "display_data"
    },
    {
     "data": {
      "application/vnd.jupyter.widget-view+json": {
       "model_id": "9c9e7633a8ab467bb243a55e33a0a442",
       "version_major": 2,
       "version_minor": 0
      },
      "text/plain": [
       "Output()"
      ]
     },
     "metadata": {},
     "output_type": "display_data"
    },
    {
     "data": {
      "text/html": [
       "<pre style=\"white-space:pre;overflow-x:auto;line-height:normal;font-family:Menlo,'DejaVu Sans Mono',consolas,'Courier New',monospace\"></pre>\n"
      ],
      "text/plain": []
     },
     "metadata": {},
     "output_type": "display_data"
    },
    {
     "data": {
      "application/vnd.jupyter.widget-view+json": {
       "model_id": "8682545c4be843279547c4d3792b97b1",
       "version_major": 2,
       "version_minor": 0
      },
      "text/plain": [
       "VBox(children=(Label(value='Enter your email address: '), Text(value='', placeholder='Enter value'), Button(de…"
      ]
     },
     "metadata": {},
     "output_type": "display_data"
    }
   ],
   "source": [
    "import syft_installer as si\n",
    "\n",
    "# This follows install.sh flow:\n",
    "# - Downloads binary\n",
    "# - Sets up environment\n",
    "# - In terminal: runs 'syftbox login' TUI\n",
    "# - In notebook: uses programmatic auth\n",
    "si.install()"
   ]
  },
  {
   "cell_type": "markdown",
   "metadata": {},
   "source": [
    "## 2. Installation Modes (from install.sh)\n",
    "\n",
    "The installer supports the same modes as install.sh:"
   ]
  },
  {
   "cell_type": "code",
   "execution_count": null,
   "metadata": {},
   "outputs": [],
   "source": [
    "import syft_installer as si\n",
    "\n",
    "# Download binary only (no setup)\n",
    "si.install(install_mode=\"download-only\")\n",
    "print(\"✅ Binary downloaded to ~/.local/bin/syftbox\")"
   ]
  },
  {
   "cell_type": "code",
   "execution_count": null,
   "metadata": {},
   "outputs": [],
   "source": [
    "# Setup only (assumes binary already exists)\n",
    "si.install(install_mode=\"setup-only\")\n",
    "print(\"✅ Setup completed\")"
   ]
  },
  {
   "cell_type": "code",
   "execution_count": null,
   "metadata": {},
   "outputs": [],
   "source": [
    "# Interactive mode (default) - full installation\n",
    "si.install(install_mode=\"interactive\")"
   ]
  },
  {
   "cell_type": "markdown",
   "metadata": {},
   "source": [
    "## 3. Environment Variables (Matching install.sh)\n",
    "\n",
    "The installer respects all environment variables from install.sh:"
   ]
  },
  {
   "cell_type": "code",
   "execution_count": null,
   "metadata": {},
   "outputs": [],
   "source": [
    "import os\n",
    "import syft_installer as si\n",
    "\n",
    "# Set environment variables (just like with install.sh)\n",
    "os.environ[\"INSTALL_MODE\"] = \"interactive\"\n",
    "os.environ[\"INSTALL_APPS\"] = \"dataroom,whisper\"\n",
    "os.environ[\"DEBUG\"] = \"true\"\n",
    "\n",
    "# Install will use these environment variables\n",
    "si.install()"
   ]
  },
  {
   "cell_type": "markdown",
   "metadata": {},
   "source": [
    "## 4. App Installation\n",
    "\n",
    "Install SyftBox apps during setup (like install.sh with INSTALL_APPS):"
   ]
  },
  {
   "cell_type": "code",
   "execution_count": null,
   "metadata": {},
   "outputs": [],
   "source": [
    "import syft_installer as si\n",
    "\n",
    "# Install with specific apps\n",
    "si.install(install_apps=\"dataroom,whisper\")\n",
    "\n",
    "# Or use environment variable\n",
    "# export INSTALL_APPS=dataroom,whisper"
   ]
  },
  {
   "cell_type": "markdown",
   "metadata": {},
   "source": [
    "## 5. Debug Mode\n",
    "\n",
    "Enable debug output to see what's happening (like install.sh with DEBUG=true):"
   ]
  },
  {
   "cell_type": "code",
   "execution_count": null,
   "metadata": {},
   "outputs": [],
   "source": [
    "import syft_installer as si\n",
    "\n",
    "# Enable debug mode\n",
    "si.install(debug=True)\n",
    "\n",
    "# Or use environment variable\n",
    "# export DEBUG=true"
   ]
  },
  {
   "cell_type": "markdown",
   "metadata": {},
   "source": [
    "## 6. Pre-configured Installation\n",
    "\n",
    "For notebook environments, you can pre-configure email to skip that prompt:"
   ]
  },
  {
   "cell_type": "code",
   "execution_count": 1,
   "metadata": {},
   "outputs": [
    {
     "data": {
      "application/vnd.jupyter.widget-view+json": {
       "model_id": "ed29905e03d04291baba0b061878be73",
       "version_major": 2,
       "version_minor": 0
      },
      "text/plain": [
       "Label(value='test')"
      ]
     },
     "metadata": {},
     "output_type": "display_data"
    },
    {
     "data": {
      "application/vnd.jupyter.widget-view+json": {
       "model_id": "c58b1e3e19a54ac59595f6c3c0bb1bf2",
       "version_major": 2,
       "version_minor": 0
      },
      "text/plain": [
       "VBox(children=(IntProgress(value=0, bar_style='info', description='Progress:'), Label(value='Downloading SyftB…"
      ]
     },
     "metadata": {},
     "output_type": "display_data"
    },
    {
     "data": {
      "application/vnd.jupyter.widget-view+json": {
       "model_id": "ebcd8aee5bdc40beb2fe8fbcd8a444f3",
       "version_major": 2,
       "version_minor": 0
      },
      "text/plain": [
       "Output()"
      ]
     },
     "metadata": {},
     "output_type": "display_data"
    },
    {
     "data": {
      "text/html": [
       "<pre style=\"white-space:pre;overflow-x:auto;line-height:normal;font-family:Menlo,'DejaVu Sans Mono',consolas,'Courier New',monospace\"></pre>\n"
      ],
      "text/plain": []
     },
     "metadata": {},
     "output_type": "display_data"
    },
    {
     "data": {
      "application/vnd.jupyter.widget-view+json": {
       "model_id": "117c7a2729144b64bd5317d1c581a48a",
       "version_major": 2,
       "version_minor": 0
      },
      "text/plain": [
       "HTML(value='<div style=\"color: red;\">✗ Installation failed: Failed to request OTP: Expecting value: line 1 col…"
      ]
     },
     "metadata": {},
     "output_type": "display_data"
    },
    {
     "ename": "AuthenticationError",
     "evalue": "Failed to request OTP: Expecting value: line 1 column 1 (char 0)",
     "output_type": "error",
     "traceback": [
      "\u001b[31m---------------------------------------------------------------------------\u001b[39m",
      "\u001b[31mJSONDecodeError\u001b[39m                           Traceback (most recent call last)",
      "\u001b[36mFile \u001b[39m\u001b[32m~/.cache/uv/archive-v0/3FjKkW0GqE_zSzRaRS8Po/lib/python3.12/site-packages/requests/models.py:976\u001b[39m, in \u001b[36mResponse.json\u001b[39m\u001b[34m(self, **kwargs)\u001b[39m\n\u001b[32m    975\u001b[39m \u001b[38;5;28;01mtry\u001b[39;00m:\n\u001b[32m--> \u001b[39m\u001b[32m976\u001b[39m     \u001b[38;5;28;01mreturn\u001b[39;00m \u001b[43mcomplexjson\u001b[49m\u001b[43m.\u001b[49m\u001b[43mloads\u001b[49m\u001b[43m(\u001b[49m\u001b[38;5;28;43mself\u001b[39;49m\u001b[43m.\u001b[49m\u001b[43mtext\u001b[49m\u001b[43m,\u001b[49m\u001b[43m \u001b[49m\u001b[43m*\u001b[49m\u001b[43m*\u001b[49m\u001b[43mkwargs\u001b[49m\u001b[43m)\u001b[49m\n\u001b[32m    977\u001b[39m \u001b[38;5;28;01mexcept\u001b[39;00m JSONDecodeError \u001b[38;5;28;01mas\u001b[39;00m e:\n\u001b[32m    978\u001b[39m     \u001b[38;5;66;03m# Catch JSON-related errors and raise as requests.JSONDecodeError\u001b[39;00m\n\u001b[32m    979\u001b[39m     \u001b[38;5;66;03m# This aliases json.JSONDecodeError and simplejson.JSONDecodeError\u001b[39;00m\n",
      "\u001b[36mFile \u001b[39m\u001b[32m~/.local/share/uv/python/cpython-3.12.7-macos-x86_64-none/lib/python3.12/json/__init__.py:346\u001b[39m, in \u001b[36mloads\u001b[39m\u001b[34m(s, cls, object_hook, parse_float, parse_int, parse_constant, object_pairs_hook, **kw)\u001b[39m\n\u001b[32m    343\u001b[39m \u001b[38;5;28;01mif\u001b[39;00m (\u001b[38;5;28mcls\u001b[39m \u001b[38;5;129;01mis\u001b[39;00m \u001b[38;5;28;01mNone\u001b[39;00m \u001b[38;5;129;01mand\u001b[39;00m object_hook \u001b[38;5;129;01mis\u001b[39;00m \u001b[38;5;28;01mNone\u001b[39;00m \u001b[38;5;129;01mand\u001b[39;00m\n\u001b[32m    344\u001b[39m         parse_int \u001b[38;5;129;01mis\u001b[39;00m \u001b[38;5;28;01mNone\u001b[39;00m \u001b[38;5;129;01mand\u001b[39;00m parse_float \u001b[38;5;129;01mis\u001b[39;00m \u001b[38;5;28;01mNone\u001b[39;00m \u001b[38;5;129;01mand\u001b[39;00m\n\u001b[32m    345\u001b[39m         parse_constant \u001b[38;5;129;01mis\u001b[39;00m \u001b[38;5;28;01mNone\u001b[39;00m \u001b[38;5;129;01mand\u001b[39;00m object_pairs_hook \u001b[38;5;129;01mis\u001b[39;00m \u001b[38;5;28;01mNone\u001b[39;00m \u001b[38;5;129;01mand\u001b[39;00m \u001b[38;5;129;01mnot\u001b[39;00m kw):\n\u001b[32m--> \u001b[39m\u001b[32m346\u001b[39m     \u001b[38;5;28;01mreturn\u001b[39;00m \u001b[43m_default_decoder\u001b[49m\u001b[43m.\u001b[49m\u001b[43mdecode\u001b[49m\u001b[43m(\u001b[49m\u001b[43ms\u001b[49m\u001b[43m)\u001b[49m\n\u001b[32m    347\u001b[39m \u001b[38;5;28;01mif\u001b[39;00m \u001b[38;5;28mcls\u001b[39m \u001b[38;5;129;01mis\u001b[39;00m \u001b[38;5;28;01mNone\u001b[39;00m:\n",
      "\u001b[36mFile \u001b[39m\u001b[32m~/.local/share/uv/python/cpython-3.12.7-macos-x86_64-none/lib/python3.12/json/decoder.py:337\u001b[39m, in \u001b[36mJSONDecoder.decode\u001b[39m\u001b[34m(self, s, _w)\u001b[39m\n\u001b[32m    333\u001b[39m \u001b[38;5;250m\u001b[39m\u001b[33;03m\"\"\"Return the Python representation of ``s`` (a ``str`` instance\u001b[39;00m\n\u001b[32m    334\u001b[39m \u001b[33;03mcontaining a JSON document).\u001b[39;00m\n\u001b[32m    335\u001b[39m \n\u001b[32m    336\u001b[39m \u001b[33;03m\"\"\"\u001b[39;00m\n\u001b[32m--> \u001b[39m\u001b[32m337\u001b[39m obj, end = \u001b[38;5;28;43mself\u001b[39;49m\u001b[43m.\u001b[49m\u001b[43mraw_decode\u001b[49m\u001b[43m(\u001b[49m\u001b[43ms\u001b[49m\u001b[43m,\u001b[49m\u001b[43m \u001b[49m\u001b[43midx\u001b[49m\u001b[43m=\u001b[49m\u001b[43m_w\u001b[49m\u001b[43m(\u001b[49m\u001b[43ms\u001b[49m\u001b[43m,\u001b[49m\u001b[43m \u001b[49m\u001b[32;43m0\u001b[39;49m\u001b[43m)\u001b[49m\u001b[43m.\u001b[49m\u001b[43mend\u001b[49m\u001b[43m(\u001b[49m\u001b[43m)\u001b[49m\u001b[43m)\u001b[49m\n\u001b[32m    338\u001b[39m end = _w(s, end).end()\n",
      "\u001b[36mFile \u001b[39m\u001b[32m~/.local/share/uv/python/cpython-3.12.7-macos-x86_64-none/lib/python3.12/json/decoder.py:355\u001b[39m, in \u001b[36mJSONDecoder.raw_decode\u001b[39m\u001b[34m(self, s, idx)\u001b[39m\n\u001b[32m    354\u001b[39m \u001b[38;5;28;01mexcept\u001b[39;00m \u001b[38;5;167;01mStopIteration\u001b[39;00m \u001b[38;5;28;01mas\u001b[39;00m err:\n\u001b[32m--> \u001b[39m\u001b[32m355\u001b[39m     \u001b[38;5;28;01mraise\u001b[39;00m JSONDecodeError(\u001b[33m\"\u001b[39m\u001b[33mExpecting value\u001b[39m\u001b[33m\"\u001b[39m, s, err.value) \u001b[38;5;28;01mfrom\u001b[39;00m\u001b[38;5;250m \u001b[39m\u001b[38;5;28;01mNone\u001b[39;00m\n\u001b[32m    356\u001b[39m \u001b[38;5;28;01mreturn\u001b[39;00m obj, end\n",
      "\u001b[31mJSONDecodeError\u001b[39m: Expecting value: line 1 column 1 (char 0)",
      "\nDuring handling of the above exception, another exception occurred:\n",
      "\u001b[31mJSONDecodeError\u001b[39m                           Traceback (most recent call last)",
      "\u001b[36mFile \u001b[39m\u001b[32m~/Documents/GitHub/syft-installer/syft_installer/auth.py:45\u001b[39m, in \u001b[36mAuthenticator.request_otp\u001b[39m\u001b[34m(self, email)\u001b[39m\n\u001b[32m     44\u001b[39m     response.raise_for_status()\n\u001b[32m---> \u001b[39m\u001b[32m45\u001b[39m     \u001b[38;5;28;01mreturn\u001b[39;00m \u001b[43mresponse\u001b[49m\u001b[43m.\u001b[49m\u001b[43mjson\u001b[49m\u001b[43m(\u001b[49m\u001b[43m)\u001b[49m\n\u001b[32m     46\u001b[39m \u001b[38;5;28;01mexcept\u001b[39;00m requests.exceptions.RequestException \u001b[38;5;28;01mas\u001b[39;00m e:\n",
      "\u001b[36mFile \u001b[39m\u001b[32m~/.cache/uv/archive-v0/3FjKkW0GqE_zSzRaRS8Po/lib/python3.12/site-packages/requests/models.py:980\u001b[39m, in \u001b[36mResponse.json\u001b[39m\u001b[34m(self, **kwargs)\u001b[39m\n\u001b[32m    977\u001b[39m \u001b[38;5;28;01mexcept\u001b[39;00m JSONDecodeError \u001b[38;5;28;01mas\u001b[39;00m e:\n\u001b[32m    978\u001b[39m     \u001b[38;5;66;03m# Catch JSON-related errors and raise as requests.JSONDecodeError\u001b[39;00m\n\u001b[32m    979\u001b[39m     \u001b[38;5;66;03m# This aliases json.JSONDecodeError and simplejson.JSONDecodeError\u001b[39;00m\n\u001b[32m--> \u001b[39m\u001b[32m980\u001b[39m     \u001b[38;5;28;01mraise\u001b[39;00m RequestsJSONDecodeError(e.msg, e.doc, e.pos)\n",
      "\u001b[31mJSONDecodeError\u001b[39m: Expecting value: line 1 column 1 (char 0)",
      "\nDuring handling of the above exception, another exception occurred:\n",
      "\u001b[31mAuthenticationError\u001b[39m                       Traceback (most recent call last)",
      "\u001b[36mCell\u001b[39m\u001b[36m \u001b[39m\u001b[32mIn[1]\u001b[39m\u001b[32m, line 5\u001b[39m\n\u001b[32m      3\u001b[39m \u001b[38;5;66;03m# Pre-configure email (notebook environments only)\u001b[39;00m\n\u001b[32m      4\u001b[39m installer = si.Installer(email=\u001b[33m\"\u001b[39m\u001b[33myour.email@example.com\u001b[39m\u001b[33m\"\u001b[39m)\n\u001b[32m----> \u001b[39m\u001b[32m5\u001b[39m \u001b[43minstaller\u001b[49m\u001b[43m.\u001b[49m\u001b[43minstall\u001b[49m\u001b[43m(\u001b[49m\u001b[43m)\u001b[49m  \u001b[38;5;66;03m# Will only prompt for OTP\u001b[39;00m\n",
      "\u001b[36mFile \u001b[39m\u001b[32m~/Documents/GitHub/syft-installer/syft_installer/installer_v2.py:61\u001b[39m, in \u001b[36mInstallerV2.install\u001b[39m\u001b[34m(self)\u001b[39m\n\u001b[32m     59\u001b[39m     \u001b[38;5;66;03m# Step 2: Setup (unless download-only mode)\u001b[39;00m\n\u001b[32m     60\u001b[39m     \u001b[38;5;28;01mif\u001b[39;00m \u001b[38;5;28mself\u001b[39m.install_mode != \u001b[33m\"\u001b[39m\u001b[33mdownload-only\u001b[39m\u001b[33m\"\u001b[39m:\n\u001b[32m---> \u001b[39m\u001b[32m61\u001b[39m         \u001b[38;5;28;43mself\u001b[39;49m\u001b[43m.\u001b[49m\u001b[43m_setup\u001b[49m\u001b[43m(\u001b[49m\u001b[43m)\u001b[49m\n\u001b[32m     63\u001b[39m     \u001b[38;5;28;01mreturn\u001b[39;00m \u001b[38;5;28;01mTrue\u001b[39;00m\n\u001b[32m     65\u001b[39m \u001b[38;5;28;01mexcept\u001b[39;00m \u001b[38;5;167;01mException\u001b[39;00m \u001b[38;5;28;01mas\u001b[39;00m e:\n",
      "\u001b[36mFile \u001b[39m\u001b[32m~/Documents/GitHub/syft-installer/syft_installer/installer_v2.py:102\u001b[39m, in \u001b[36mInstallerV2._setup\u001b[39m\u001b[34m(self)\u001b[39m\n\u001b[32m    100\u001b[39m \u001b[38;5;66;03m# Run syftbox login if interactive mode\u001b[39;00m\n\u001b[32m    101\u001b[39m \u001b[38;5;28;01mif\u001b[39;00m \u001b[38;5;28mself\u001b[39m.install_mode == \u001b[33m\"\u001b[39m\u001b[33minteractive\u001b[39m\u001b[33m\"\u001b[39m \u001b[38;5;129;01mand\u001b[39;00m \u001b[38;5;129;01mnot\u001b[39;00m \u001b[38;5;28mself\u001b[39m.headless:\n\u001b[32m--> \u001b[39m\u001b[32m102\u001b[39m     \u001b[38;5;28;43mself\u001b[39;49m\u001b[43m.\u001b[49m\u001b[43m_run_login\u001b[49m\u001b[43m(\u001b[49m\u001b[43m)\u001b[49m\n\u001b[32m    104\u001b[39m \u001b[38;5;66;03m# Install apps if specified\u001b[39;00m\n\u001b[32m    105\u001b[39m \u001b[38;5;28;01mif\u001b[39;00m \u001b[38;5;28mself\u001b[39m.install_apps:\n",
      "\u001b[36mFile \u001b[39m\u001b[32m~/Documents/GitHub/syft-installer/syft_installer/hybrid_installer.py:74\u001b[39m, in \u001b[36mHybridInstaller._run_login\u001b[39m\u001b[34m(self)\u001b[39m\n\u001b[32m     71\u001b[39m         \u001b[38;5;28mself\u001b[39m._debug(\u001b[33mf\u001b[39m\u001b[33m\"\u001b[39m\u001b[33mBinary login failed: \u001b[39m\u001b[38;5;132;01m{\u001b[39;00me\u001b[38;5;132;01m}\u001b[39;00m\u001b[33m, falling back to programmatic auth\u001b[39m\u001b[33m\"\u001b[39m)\n\u001b[32m     73\u001b[39m \u001b[38;5;66;03m# For notebooks/headless, use programmatic authentication\u001b[39;00m\n\u001b[32m---> \u001b[39m\u001b[32m74\u001b[39m \u001b[38;5;28;43mself\u001b[39;49m\u001b[43m.\u001b[49m\u001b[43m_programmatic_login\u001b[49m\u001b[43m(\u001b[49m\u001b[43m)\u001b[49m\n",
      "\u001b[36mFile \u001b[39m\u001b[32m~/Documents/GitHub/syft-installer/syft_installer/hybrid_installer.py:88\u001b[39m, in \u001b[36mHybridInstaller._programmatic_login\u001b[39m\u001b[34m(self)\u001b[39m\n\u001b[32m     86\u001b[39m \u001b[38;5;66;03m# Request OTP\u001b[39;00m\n\u001b[32m     87\u001b[39m \u001b[38;5;28mself\u001b[39m.progress.update(\u001b[33mf\u001b[39m\u001b[33m\"\u001b[39m\u001b[33mRequesting OTP for \u001b[39m\u001b[38;5;132;01m{\u001b[39;00m\u001b[38;5;28mself\u001b[39m.email\u001b[38;5;132;01m}\u001b[39;00m\u001b[33m\"\u001b[39m, \u001b[32m65\u001b[39m)\n\u001b[32m---> \u001b[39m\u001b[32m88\u001b[39m \u001b[38;5;28;43mself\u001b[39;49m\u001b[43m.\u001b[49m\u001b[43mauth\u001b[49m\u001b[43m.\u001b[49m\u001b[43mrequest_otp\u001b[49m\u001b[43m(\u001b[49m\u001b[38;5;28;43mself\u001b[39;49m\u001b[43m.\u001b[49m\u001b[43memail\u001b[49m\u001b[43m)\u001b[49m\n\u001b[32m     90\u001b[39m \u001b[38;5;66;03m# Get OTP\u001b[39;00m\n\u001b[32m     91\u001b[39m \u001b[38;5;28;01mif\u001b[39;00m \u001b[38;5;28mself\u001b[39m.otp_callback:\n",
      "\u001b[36mFile \u001b[39m\u001b[32m~/Documents/GitHub/syft-installer/syft_installer/auth.py:47\u001b[39m, in \u001b[36mAuthenticator.request_otp\u001b[39m\u001b[34m(self, email)\u001b[39m\n\u001b[32m     45\u001b[39m     \u001b[38;5;28;01mreturn\u001b[39;00m response.json()\n\u001b[32m     46\u001b[39m \u001b[38;5;28;01mexcept\u001b[39;00m requests.exceptions.RequestException \u001b[38;5;28;01mas\u001b[39;00m e:\n\u001b[32m---> \u001b[39m\u001b[32m47\u001b[39m     \u001b[38;5;28;01mraise\u001b[39;00m AuthenticationError(\u001b[33mf\u001b[39m\u001b[33m\"\u001b[39m\u001b[33mFailed to request OTP: \u001b[39m\u001b[38;5;132;01m{\u001b[39;00m\u001b[38;5;28mstr\u001b[39m(e)\u001b[38;5;132;01m}\u001b[39;00m\u001b[33m\"\u001b[39m)\n",
      "\u001b[31mAuthenticationError\u001b[39m: Failed to request OTP: Expecting value: line 1 column 1 (char 0)"
     ]
    }
   ],
   "source": [
    "import syft_installer as si\n",
    "\n",
    "# Pre-configure email (notebook environments only)\n",
    "installer = si.Installer(email=\"your.email@example.com\")\n",
    "installer.install()  # Will only prompt for OTP"
   ]
  },
  {
   "cell_type": "markdown",
   "metadata": {},
   "source": [
    "## 7. Programmatic Authentication (Notebooks Only)\n",
    "\n",
    "In notebook environments where the TUI cannot run, you can use programmatic auth:"
   ]
  },
  {
   "cell_type": "code",
   "execution_count": null,
   "metadata": {},
   "outputs": [],
   "source": [
    "import syft_installer as si\n",
    "\n",
    "# Create installer\n",
    "installer = si.Installer()\n",
    "\n",
    "# Download and setup\n",
    "installer.download_binary()\n",
    "installer.setup_environment()\n",
    "\n",
    "# Programmatic authentication\n",
    "email = \"your.email@example.com\"\n",
    "installer.request_otp(email)\n",
    "print(f\"✅ OTP sent to {email}\")\n",
    "\n",
    "# Get OTP from user\n",
    "otp = input(\"Enter OTP from email: \")\n",
    "installer.verify_otp(otp)\n",
    "print(\"✅ Authentication successful\")\n",
    "\n",
    "# Start client\n",
    "installer.start_client(background=True)\n",
    "print(\"✅ Client started\")"
   ]
  },
  {
   "cell_type": "markdown",
   "metadata": {},
   "source": [
    "## 8. Check Installation Status"
   ]
  },
  {
   "cell_type": "code",
   "execution_count": null,
   "metadata": {},
   "outputs": [],
   "source": [
    "import syft_installer as si\n",
    "\n",
    "# Check if installed\n",
    "if si.is_installed():\n",
    "    print(\"✅ SyftBox is installed\")\n",
    "    \n",
    "    # Load configuration\n",
    "    config = si.load_config()\n",
    "    if config:\n",
    "        print(f\"📧 Logged in as: {config.email}\")\n",
    "        print(f\"📁 Data directory: {config.data_dir}\")\n",
    "        print(f\"🌐 Server: {config.server_url}\")\n",
    "        print(f\"🔧 Binary at: {config.binary_path}\")\n",
    "else:\n",
    "    print(\"❌ SyftBox is not installed\")\n",
    "\n",
    "# Check if running\n",
    "if si.is_running():\n",
    "    print(\"✅ SyftBox client is running\")\n",
    "else:\n",
    "    print(\"❌ SyftBox client is not running\")"
   ]
  },
  {
   "cell_type": "markdown",
   "metadata": {},
   "source": [
    "## 9. Managing the Client"
   ]
  },
  {
   "cell_type": "code",
   "execution_count": null,
   "metadata": {},
   "outputs": [],
   "source": [
    "import syft_installer as si\n",
    "\n",
    "# Start client (uses existing config)\n",
    "si.start_client(background=True)\n",
    "print(\"✅ Client started\")\n",
    "\n",
    "# Check status\n",
    "if si.is_running():\n",
    "    print(\"✅ Client is running\")\n",
    "\n",
    "# Stop client\n",
    "si.stop_client()\n",
    "print(\"✅ Client stopped\")"
   ]
  },
  {
   "cell_type": "markdown",
   "metadata": {},
   "source": [
    "## 10. Headless/CI Mode\n",
    "\n",
    "For automated environments:"
   ]
  },
  {
   "cell_type": "code",
   "execution_count": null,
   "metadata": {},
   "outputs": [],
   "source": [
    "import syft_installer as si\n",
    "\n",
    "def automated_install(email: str, otp_getter):\n",
    "    \"\"\"Example of headless installation.\"\"\"\n",
    "    installer = si.Installer(\n",
    "        email=email,\n",
    "        headless=True,\n",
    "        otp_callback=otp_getter\n",
    "    )\n",
    "    \n",
    "    # This will:\n",
    "    # 1. Download binary\n",
    "    # 2. Setup environment\n",
    "    # 3. Request OTP\n",
    "    # 4. Call otp_getter() to get the OTP\n",
    "    # 5. Verify and save config\n",
    "    installer.install()\n",
    "    \n",
    "    # Start in background\n",
    "    installer.start_client(background=True)\n",
    "    \n",
    "    return True\n",
    "\n",
    "# Example usage:\n",
    "# def get_otp_from_email():\n",
    "#     # Your code to fetch OTP from email\n",
    "#     return \"ABCD1234\"\n",
    "# \n",
    "# automated_install(\"user@example.com\", get_otp_from_email)"
   ]
  },
  {
   "cell_type": "markdown",
   "metadata": {},
   "source": [
    "## 11. Platform and Environment Info"
   ]
  },
  {
   "cell_type": "code",
   "execution_count": null,
   "metadata": {},
   "outputs": [],
   "source": [
    "from syft_installer.platform import get_platform_info, get_binary_url\n",
    "from syft_installer.runtime import RuntimeEnvironment\n",
    "\n",
    "# Platform info\n",
    "os_name, arch = get_platform_info()\n",
    "print(f\"🖥️  OS: {os_name}\")\n",
    "print(f\"🏗️  Architecture: {arch}\")\n",
    "print(f\"📥 Binary URL: {get_binary_url()}\")\n",
    "\n",
    "# Runtime environment\n",
    "runtime = RuntimeEnvironment()\n",
    "print(f\"\\n📓 Running in notebook: {runtime.is_notebook}\")\n",
    "print(f\"🌐 Running in Colab: {runtime.is_colab}\")\n",
    "print(f\"💻 Has terminal: {runtime.has_tty}\")\n",
    "print(f\"🎛️  Can use widgets: {runtime.can_use_widgets}\")\n",
    "print(f\"📁 Default data dir: {runtime.default_data_dir}\")"
   ]
  },
  {
   "cell_type": "markdown",
   "metadata": {},
   "source": [
    "## Key Differences from v1\n",
    "\n",
    "1. **Follows install.sh**: The installer now follows the exact flow of the official installer\n",
    "2. **Delegates to TUI**: In terminals, it runs `syftbox login` instead of reimplementing auth\n",
    "3. **Installation modes**: Supports download-only, setup-only, and interactive modes\n",
    "4. **Environment variables**: Respects INSTALL_MODE, INSTALL_APPS, DEBUG, etc.\n",
    "5. **PATH management**: Automatically updates shell profiles\n",
    "6. **App installation**: Can install apps during setup\n",
    "7. **Old version removal**: Removes old installations via uv/pip\n",
    "\n",
    "## Troubleshooting\n",
    "\n",
    "### PATH not updated?\n",
    "The installer adds `~/.local/bin` to your PATH in shell profiles. You may need to:\n",
    "```bash\n",
    "source ~/.bashrc  # or ~/.zshrc\n",
    "```\n",
    "\n",
    "### Binary not found?\n",
    "Make sure the download completed:\n",
    "```python\n",
    "si.install(install_mode=\"download-only\")\n",
    "```\n",
    "\n",
    "### Debug mode\n",
    "Enable debug output:\n",
    "```python\n",
    "si.install(debug=True)\n",
    "```"
   ]
  }
 ],
 "metadata": {
  "kernelspec": {
   "display_name": "Python 3 (ipykernel)",
   "language": "python",
   "name": "python3"
  },
  "language_info": {
   "codemirror_mode": {
    "name": "ipython",
    "version": 3
   },
   "file_extension": ".py",
   "mimetype": "text/x-python",
   "name": "python",
   "nbconvert_exporter": "python",
   "pygments_lexer": "ipython3",
   "version": "3.12.7"
  }
 },
 "nbformat": 4,
 "nbformat_minor": 4
}
