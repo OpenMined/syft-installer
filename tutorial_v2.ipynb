{
 "cells": [
  {
   "cell_type": "markdown",
   "metadata": {},
   "source": [
    "# SyftBox Installer Tutorial v2\n",
    "\n",
    "This notebook demonstrates the new `syft-installer` that follows the official `install.sh` implementation.\n",
    "\n",
    "## Key Features\n",
    "\n",
    "- 🎯 **Follows install.sh exactly** - Uses the same flow as the official installer\n",
    "- 🖥️ **Terminal mode** - Delegates to `syftbox login` TUI when in terminal\n",
    "- 📓 **Notebook support** - Falls back to programmatic auth in Jupyter/Colab\n",
    "- 🌍 **Environment variables** - Supports all install.sh environment variables\n",
    "\n",
    "## Installation\n",
    "\n",
    "First, let's install the library:"
   ]
  },
  {
   "cell_type": "code",
   "execution_count": null,
   "metadata": {},
   "outputs": [],
   "source": [
    "# Install from local directory (for testing)\n",
    "!pip install -e /Users/atrask/Documents/GitHub/syft-installer\n",
    "\n",
    "# Or install from PyPI when published\n",
    "# !pip install syft-installer"
   ]
  },
  {
   "cell_type": "markdown",
   "metadata": {},
   "source": [
    "## 1. Quick Installation (Follows install.sh)\n",
    "\n",
    "The simplest way to install SyftBox. In notebooks, this will use programmatic authentication:"
   ]
  },
  {
   "cell_type": "code",
   "execution_count": null,
   "metadata": {},
   "outputs": [],
   "source": [
    "import syft_installer as si\n",
    "\n",
    "# This follows install.sh flow:\n",
    "# - Downloads binary\n",
    "# - Sets up environment\n",
    "# - In terminal: runs 'syftbox login' TUI\n",
    "# - In notebook: uses programmatic auth\n",
    "si.install()"
   ]
  },
  {
   "cell_type": "markdown",
   "metadata": {},
   "source": [
    "## 2. Installation Modes (from install.sh)\n",
    "\n",
    "The installer supports the same modes as install.sh:"
   ]
  },
  {
   "cell_type": "code",
   "execution_count": null,
   "metadata": {},
   "outputs": [],
   "source": [
    "import syft_installer as si\n",
    "\n",
    "# Download binary only (no setup)\n",
    "si.install(install_mode=\"download-only\")\n",
    "print(\"✅ Binary downloaded to ~/.local/bin/syftbox\")"
   ]
  },
  {
   "cell_type": "code",
   "execution_count": null,
   "metadata": {},
   "outputs": [],
   "source": [
    "# Setup only (assumes binary already exists)\n",
    "si.install(install_mode=\"setup-only\")\n",
    "print(\"✅ Setup completed\")"
   ]
  },
  {
   "cell_type": "code",
   "execution_count": null,
   "metadata": {},
   "outputs": [],
   "source": [
    "# Interactive mode (default) - full installation\n",
    "si.install(install_mode=\"interactive\")"
   ]
  },
  {
   "cell_type": "markdown",
   "metadata": {},
   "source": [
    "## 3. Environment Variables (Matching install.sh)\n",
    "\n",
    "The installer respects all environment variables from install.sh:"
   ]
  },
  {
   "cell_type": "code",
   "execution_count": null,
   "metadata": {},
   "outputs": [],
   "source": [
    "import os\n",
    "import syft_installer as si\n",
    "\n",
    "# Set environment variables (just like with install.sh)\n",
    "os.environ[\"INSTALL_MODE\"] = \"interactive\"\n",
    "os.environ[\"INSTALL_APPS\"] = \"dataroom,whisper\"\n",
    "os.environ[\"DEBUG\"] = \"true\"\n",
    "\n",
    "# Install will use these environment variables\n",
    "si.install()"
   ]
  },
  {
   "cell_type": "markdown",
   "metadata": {},
   "source": [
    "## 4. App Installation\n",
    "\n",
    "Install SyftBox apps during setup (like install.sh with INSTALL_APPS):"
   ]
  },
  {
   "cell_type": "code",
   "execution_count": null,
   "metadata": {},
   "outputs": [],
   "source": [
    "import syft_installer as si\n",
    "\n",
    "# Install with specific apps\n",
    "si.install(install_apps=\"dataroom,whisper\")\n",
    "\n",
    "# Or use environment variable\n",
    "# export INSTALL_APPS=dataroom,whisper"
   ]
  },
  {
   "cell_type": "markdown",
   "metadata": {},
   "source": [
    "## 5. Debug Mode\n",
    "\n",
    "Enable debug output to see what's happening (like install.sh with DEBUG=true):"
   ]
  },
  {
   "cell_type": "code",
   "execution_count": null,
   "metadata": {},
   "outputs": [],
   "source": [
    "import syft_installer as si\n",
    "\n",
    "# Enable debug mode\n",
    "si.install(debug=True)\n",
    "\n",
    "# Or use environment variable\n",
    "# export DEBUG=true"
   ]
  },
  {
   "cell_type": "markdown",
   "metadata": {},
   "source": [
    "## 6. Pre-configured Installation\n",
    "\n",
    "For notebook environments, you can pre-configure email to skip that prompt:"
   ]
  },
  {
   "cell_type": "code",
   "execution_count": null,
   "metadata": {},
   "outputs": [],
   "source": [
    "import syft_installer as si\n",
    "\n",
    "# Pre-configure email (notebook environments only)\n",
    "installer = si.Installer(email=\"your.email@example.com\")\n",
    "installer.install()  # Will only prompt for OTP"
   ]
  },
  {
   "cell_type": "markdown",
   "metadata": {},
   "source": [
    "## 7. Programmatic Authentication (Notebooks Only)\n",
    "\n",
    "In notebook environments where the TUI cannot run, you can use programmatic auth:"
   ]
  },
  {
   "cell_type": "code",
   "execution_count": null,
   "metadata": {},
   "outputs": [],
   "source": [
    "import syft_installer as si\n",
    "\n",
    "# Create installer\n",
    "installer = si.Installer()\n",
    "\n",
    "# Download and setup\n",
    "installer.download_binary()\n",
    "installer.setup_environment()\n",
    "\n",
    "# Programmatic authentication\n",
    "email = \"your.email@example.com\"\n",
    "installer.request_otp(email)\n",
    "print(f\"✅ OTP sent to {email}\")\n",
    "\n",
    "# Get OTP from user\n",
    "otp = input(\"Enter OTP from email: \")\n",
    "installer.verify_otp(otp)\n",
    "print(\"✅ Authentication successful\")\n",
    "\n",
    "# Start client\n",
    "installer.start_client(background=True)\n",
    "print(\"✅ Client started\")"
   ]
  },
  {
   "cell_type": "markdown",
   "metadata": {},
   "source": [
    "## 8. Check Installation Status"
   ]
  },
  {
   "cell_type": "code",
   "execution_count": null,
   "metadata": {},
   "outputs": [],
   "source": [
    "import syft_installer as si\n",
    "\n",
    "# Check if installed\n",
    "if si.is_installed():\n",
    "    print(\"✅ SyftBox is installed\")\n",
    "    \n",
    "    # Load configuration\n",
    "    config = si.load_config()\n",
    "    if config:\n",
    "        print(f\"📧 Logged in as: {config.email}\")\n",
    "        print(f\"📁 Data directory: {config.data_dir}\")\n",
    "        print(f\"🌐 Server: {config.server_url}\")\n",
    "        print(f\"🔧 Binary at: {config.binary_path}\")\n",
    "else:\n",
    "    print(\"❌ SyftBox is not installed\")\n",
    "\n",
    "# Check if running\n",
    "if si.is_running():\n",
    "    print(\"✅ SyftBox client is running\")\n",
    "else:\n",
    "    print(\"❌ SyftBox client is not running\")"
   ]
  },
  {
   "cell_type": "markdown",
   "metadata": {},
   "source": [
    "## 9. Managing the Client"
   ]
  },
  {
   "cell_type": "code",
   "execution_count": null,
   "metadata": {},
   "outputs": [],
   "source": [
    "import syft_installer as si\n",
    "\n",
    "# Start client (uses existing config)\n",
    "si.start_client(background=True)\n",
    "print(\"✅ Client started\")\n",
    "\n",
    "# Check status\n",
    "if si.is_running():\n",
    "    print(\"✅ Client is running\")\n",
    "\n",
    "# Stop client\n",
    "si.stop_client()\n",
    "print(\"✅ Client stopped\")"
   ]
  },
  {
   "cell_type": "markdown",
   "metadata": {},
   "source": [
    "## 10. Headless/CI Mode\n",
    "\n",
    "For automated environments:"
   ]
  },
  {
   "cell_type": "code",
   "execution_count": null,
   "metadata": {},
   "outputs": [],
   "source": [
    "import syft_installer as si\n",
    "\n",
    "def automated_install(email: str, otp_getter):\n",
    "    \"\"\"Example of headless installation.\"\"\"\n",
    "    installer = si.Installer(\n",
    "        email=email,\n",
    "        headless=True,\n",
    "        otp_callback=otp_getter\n",
    "    )\n",
    "    \n",
    "    # This will:\n",
    "    # 1. Download binary\n",
    "    # 2. Setup environment\n",
    "    # 3. Request OTP\n",
    "    # 4. Call otp_getter() to get the OTP\n",
    "    # 5. Verify and save config\n",
    "    installer.install()\n",
    "    \n",
    "    # Start in background\n",
    "    installer.start_client(background=True)\n",
    "    \n",
    "    return True\n",
    "\n",
    "# Example usage:\n",
    "# def get_otp_from_email():\n",
    "#     # Your code to fetch OTP from email\n",
    "#     return \"ABCD1234\"\n",
    "# \n",
    "# automated_install(\"user@example.com\", get_otp_from_email)"
   ]
  },
  {
   "cell_type": "markdown",
   "metadata": {},
   "source": [
    "## 11. Platform and Environment Info"
   ]
  },
  {
   "cell_type": "code",
   "execution_count": null,
   "metadata": {},
   "outputs": [],
   "source": [
    "from syft_installer.platform import get_platform_info, get_binary_url\n",
    "from syft_installer.runtime import RuntimeEnvironment\n",
    "\n",
    "# Platform info\n",
    "os_name, arch = get_platform_info()\n",
    "print(f\"🖥️  OS: {os_name}\")\n",
    "print(f\"🏗️  Architecture: {arch}\")\n",
    "print(f\"📥 Binary URL: {get_binary_url()}\")\n",
    "\n",
    "# Runtime environment\n",
    "runtime = RuntimeEnvironment()\n",
    "print(f\"\\n📓 Running in notebook: {runtime.is_notebook}\")\n",
    "print(f\"🌐 Running in Colab: {runtime.is_colab}\")\n",
    "print(f\"💻 Has terminal: {runtime.has_tty}\")\n",
    "print(f\"🎛️  Can use widgets: {runtime.can_use_widgets}\")\n",
    "print(f\"📁 Default data dir: {runtime.default_data_dir}\")"
   ]
  },
  {
   "cell_type": "markdown",
   "metadata": {},
   "source": [
    "## Key Differences from v1\n",
    "\n",
    "1. **Follows install.sh**: The installer now follows the exact flow of the official installer\n",
    "2. **Delegates to TUI**: In terminals, it runs `syftbox login` instead of reimplementing auth\n",
    "3. **Installation modes**: Supports download-only, setup-only, and interactive modes\n",
    "4. **Environment variables**: Respects INSTALL_MODE, INSTALL_APPS, DEBUG, etc.\n",
    "5. **PATH management**: Automatically updates shell profiles\n",
    "6. **App installation**: Can install apps during setup\n",
    "7. **Old version removal**: Removes old installations via uv/pip\n",
    "\n",
    "## Troubleshooting\n",
    "\n",
    "### PATH not updated?\n",
    "The installer adds `~/.local/bin` to your PATH in shell profiles. You may need to:\n",
    "```bash\n",
    "source ~/.bashrc  # or ~/.zshrc\n",
    "```\n",
    "\n",
    "### Binary not found?\n",
    "Make sure the download completed:\n",
    "```python\n",
    "si.install(install_mode=\"download-only\")\n",
    "```\n",
    "\n",
    "### Debug mode\n",
    "Enable debug output:\n",
    "```python\n",
    "si.install(debug=True)\n",
    "```"
   ]
  }
 ],
 "metadata": {
  "kernelspec": {
   "display_name": "Python 3",
   "language": "python",
   "name": "python3"
  },
  "language_info": {
   "codemirror_mode": {
    "name": "ipython",
    "version": 3
   },
   "file_extension": ".py",
   "mimetype": "text/x-python",
   "name": "python",
   "nbconvert_exporter": "python",
   "pygments_lexer": "ipython3",
   "version": "3.8.0"
  }
 },
 "nbformat": 4,
 "nbformat_minor": 4
}