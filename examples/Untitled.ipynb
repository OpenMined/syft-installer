{
 "cells": [
  {
   "cell_type": "code",
   "execution_count": 1,
   "id": "d8960919-ad27-4fe6-97a7-399fb331e5f0",
   "metadata": {},
   "outputs": [],
   "source": [
    "import syft_installer as si"
   ]
  },
  {
   "cell_type": "code",
   "execution_count": null,
   "id": "a0f3f3fc-8da4-41c4-8c71-6066a97976d1",
   "metadata": {},
   "outputs": [
    {
     "data": {
      "text/html": [
       "<pre style=\"white-space:pre;overflow-x:auto;line-height:normal;font-family:Menlo,'DejaVu Sans Mono',consolas,'Courier New',monospace\">📧 Verification code sent to liamtrask@gmail.com\n",
       "</pre>\n"
      ],
      "text/plain": [
       "📧 Verification code sent to liamtrask@gmail.com\n"
      ]
     },
     "metadata": {},
     "output_type": "display_data"
    },
    {
     "data": {
      "text/html": [
       "<pre style=\"white-space:pre;overflow-x:auto;line-height:normal;font-family:Menlo,'DejaVu Sans Mono',consolas,'Courier New',monospace\">🔐 Enter your <span style=\"color: #008080; text-decoration-color: #008080; font-weight: bold\">8</span>-digit verification code: </pre>\n"
      ],
      "text/plain": [
       "🔐 Enter your \u001b[1;36m8\u001b[0m-digit verification code: "
      ]
     },
     "metadata": {},
     "output_type": "display_data"
    }
   ],
   "source": [
    "si.install_and_run(\"liamtrask@gmail.com\")"
   ]
  },
  {
   "cell_type": "code",
   "execution_count": null,
   "id": "152ffc45-1e01-4cf2-aaf9-846d5d0dc88f",
   "metadata": {},
   "outputs": [],
   "source": []
  }
 ],
 "metadata": {
  "kernelspec": {
   "display_name": "Python 3 (ipykernel)",
   "language": "python",
   "name": "python3"
  },
  "language_info": {
   "codemirror_mode": {
    "name": "ipython",
    "version": 3
   },
   "file_extension": ".py",
   "mimetype": "text/x-python",
   "name": "python",
   "nbconvert_exporter": "python",
   "pygments_lexer": "ipython3",
   "version": "3.12.7"
  }
 },
 "nbformat": 4,
 "nbformat_minor": 5
}
