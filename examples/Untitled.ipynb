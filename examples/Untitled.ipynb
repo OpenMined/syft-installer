{
 "cells": [
  {
   "cell_type": "code",
   "execution_count": 1,
   "id": "d8960919-ad27-4fe6-97a7-399fb331e5f0",
   "metadata": {},
   "outputs": [],
   "source": [
    "import syft_installer as si"
   ]
  },
  {
   "cell_type": "code",
   "execution_count": 2,
   "id": "73446e7c-2115-4e31-84f2-591681c2f716",
   "metadata": {},
   "outputs": [
    {
     "data": {
      "text/html": [
       "<pre style=\"white-space:pre;overflow-x:auto;line-height:normal;font-family:Menlo,'DejaVu Sans Mono',consolas,'Courier New',monospace\">⚠️ Remove SyftBox and all data? Type <span style=\"color: #008000; text-decoration-color: #008000\">'yes'</span> to confirm: </pre>\n"
      ],
      "text/plain": [
       "⚠️ Remove SyftBox and all data? Type \u001b[32m'yes'\u001b[0m to confirm: "
      ]
     },
     "metadata": {},
     "output_type": "display_data"
    },
    {
     "name": "stdin",
     "output_type": "stream",
     "text": [
      " yes\n"
     ]
    },
    {
     "data": {
      "text/html": [
       "<pre style=\"white-space:pre;overflow-x:auto;line-height:normal;font-family:Menlo,'DejaVu Sans Mono',consolas,'Courier New',monospace\">✅ SyftBox removed successfully\n",
       "</pre>\n"
      ],
      "text/plain": [
       "✅ SyftBox removed successfully\n"
      ]
     },
     "metadata": {},
     "output_type": "display_data"
    }
   ],
   "source": [
    "si.uninstall()"
   ]
  },
  {
   "cell_type": "code",
   "execution_count": null,
   "id": "a0f3f3fc-8da4-41c4-8c71-6066a97976d1",
   "metadata": {},
   "outputs": [
    {
     "name": "stdout",
     "output_type": "stream",
     "text": [
      "                                                                                                                        "
     ]
    },
    {
     "data": {
      "text/html": [
       "<pre style=\"white-space:pre;overflow-x:auto;line-height:normal;font-family:Menlo,'DejaVu Sans Mono',consolas,'Courier New',monospace\">📧 Verification code sent to your email - OTP: </pre>\n"
      ],
      "text/plain": [
       "📧 Verification code sent to your email - OTP: "
      ]
     },
     "metadata": {},
     "output_type": "display_data"
    }
   ],
   "source": [
    "si.install_and_run_if_needed(\"liamtrask@gmail.com\")"
   ]
  },
  {
   "cell_type": "code",
   "execution_count": null,
   "id": "152ffc45-1e01-4cf2-aaf9-846d5d0dc88f",
   "metadata": {},
   "outputs": [],
   "source": []
  }
 ],
 "metadata": {
  "kernelspec": {
   "display_name": "Python 3 (ipykernel)",
   "language": "python",
   "name": "python3"
  },
  "language_info": {
   "codemirror_mode": {
    "name": "ipython",
    "version": 3
   },
   "file_extension": ".py",
   "mimetype": "text/x-python",
   "name": "python",
   "nbconvert_exporter": "python",
   "pygments_lexer": "ipython3",
   "version": "3.12.7"
  }
 },
 "nbformat": 4,
 "nbformat_minor": 5
}
