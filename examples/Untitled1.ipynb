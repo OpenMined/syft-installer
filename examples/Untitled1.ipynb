{
 "cells": [
  {
   "cell_type": "code",
   "execution_count": 1,
   "id": "4f50ce24-8b11-4710-9ce0-fd4e23ce29ef",
   "metadata": {},
   "outputs": [
    {
     "name": "stdin",
     "output_type": "stream",
     "text": [
      "📧 Enter code sent to andrew@openmined.org:  ········\n"
     ]
    },
    {
     "name": "stdout",
     "output_type": "stream",
     "text": [
      "✅ SyftBox is now running!!! (PID: 45746) |█████████████████████████████████| 100%          \n"
     ]
    }
   ],
   "source": [
    "import syft_installer as si\n",
    "si.install_and_run_if_needed(\"andrew@openmined.org\")"
   ]
  },
  {
   "cell_type": "code",
   "execution_count": null,
   "id": "c14d2f99-8b7b-4dc9-9eac-fe92b9e8352f",
   "metadata": {},
   "outputs": [],
   "source": []
  }
 ],
 "metadata": {
  "kernelspec": {
   "display_name": "Python 3 (ipykernel)",
   "language": "python",
   "name": "python3"
  },
  "language_info": {
   "codemirror_mode": {
    "name": "ipython",
    "version": 3
   },
   "file_extension": ".py",
   "mimetype": "text/x-python",
   "name": "python",
   "nbconvert_exporter": "python",
   "pygments_lexer": "ipython3",
   "version": "3.12.7"
  }
 },
 "nbformat": 4,
 "nbformat_minor": 5
}
