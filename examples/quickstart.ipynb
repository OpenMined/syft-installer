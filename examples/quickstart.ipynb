{
 "cells": [
  {
   "cell_type": "markdown",
   "metadata": {},
   "source": "# syft-installer Quickstart\n\n> **A Python API for installing and managing the SyftBox daemon — perfect for notebooks and automation**\n\nThis notebook demonstrates how **syft-installer** makes it incredibly easy to get SyftBox running in any environment. With just one line of code, you'll have the entire SyftBox network running invisibly in the background.\n\n## 🚀 Why This Matters\n\nTraditionally, SyftBox required:\n- Manual installation steps\n- Separate daemon management  \n- Complex setup instructions\n- Awkward error handling\n\n**syft-installer** eliminates all of this. Your users just import your SyftBox-based library and it **\"just works\"**.",
   "outputs": []
  },
  {
   "cell_type": "markdown",
   "metadata": {},
   "source": "## Step 1: Install syft-installer\n\nFirst, let's install the syft-installer package:",
   "outputs": []
  },
  {
   "cell_type": "code",
   "metadata": {},
   "outputs": [],
   "source": "!pip install syft-installer"
  },
  {
   "cell_type": "markdown",
   "metadata": {},
   "source": "## Step 2: One-Line SyftBox Setup\n\nThis is where the magic happens. The entire SyftBox installation and setup is just **one line of code**:\n\n```python\nimport syft_installer as si\nsi.run()\n```\n\nWhen you run this:\n\n1. 🔍 **Detects your environment** (Google Colab in this case)\n2. 📧 **Auto-detects your Google email** (no typing required!)\n3. 📦 **Downloads the right SyftBox binary** for your platform\n4. 🔐 **Sends OTP to your email** for secure authentication\n5. ✨ **Starts SyftBox daemon** in the background\n6. 🎉 **Ready to use!**\n\nLet's try it:",
   "outputs": []
  },
  {
   "cell_type": "code",
   "metadata": {},
   "outputs": [],
   "source": "import syft_installer as si\n\n# This is all you need!\nsi.run()"
  },
  {
   "cell_type": "markdown",
   "metadata": {},
   "outputs": [],
   "source": "## What Just Happened?\n\nIn the background, syft-installer just:\n\n- Created a complete SyftBox environment on this machine\n- Set up secure authentication with your email\n- Started a SyftBox daemon that's now running invisibly\n- Made this machine part of the global SyftBox network\n\n**Your users never see any of this complexity** - they just import your library and start using it!"
  },
  {
   "cell_type": "markdown",
   "metadata": {},
   "outputs": [],
   "source": "## Step 3: Check Status\n\nLet's verify everything is working:"
  },
  {
   "cell_type": "code",
   "metadata": {},
   "outputs": [],
   "source": "# Check if SyftBox is installed and running\nprint(f\"SyftBox installed: {si.is_installed()}\")\nprint(f\"SyftBox running: {si.is_running()}\")\n\n# Get detailed status\nsi.status()"
  },
  {
   "cell_type": "markdown",
   "metadata": {},
   "outputs": [],
   "source": "## Step 4: Explore the SyftBox Environment\n\nSyftBox created a complete local environment. Let's see what's there:"
  },
  {
   "cell_type": "code",
   "metadata": {},
   "outputs": [],
   "source": "import os\nfrom pathlib import Path\n\n# Check the main SyftBox directory\nsyftbox_dir = Path.home() / \"SyftBox\"\nif syftbox_dir.exists():\n    print(\"📁 SyftBox directory structure:\")\n    for item in syftbox_dir.iterdir():\n        if item.is_dir():\n            print(f\"   📂 {item.name}/\")\n        else:\n            print(f\"   📄 {item.name}\")\nelse:\n    print(\"SyftBox directory not found\")\n\n# Check the config directory\nconfig_dir = Path.home() / \".syftbox\"\nif config_dir.exists():\n    print(\"\\n⚙️  Configuration directory:\")\n    for item in config_dir.iterdir():\n        if item.is_dir():\n            print(f\"   📂 {item.name}/\")\n        else:\n            print(f\"   📄 {item.name}\")\nelse:\n    print(\"Config directory not found\")"
  },
  {
   "cell_type": "markdown",
   "metadata": {},
   "outputs": [],
   "source": "## Step 5: Complete API Overview\n\nsyft-installer provides a simple but complete API for managing SyftBox:"
  },
  {
   "cell_type": "code",
   "metadata": {},
   "outputs": [],
   "source": "# Installation methods\n# si.run()             # Install (if needed) and start\n# si.install()         # Install without starting\n# si.install_and_run() # Explicit install + run\n\n# Status & Control\nprint(\"Status methods:\")\nprint(f\"  is_installed(): {si.is_installed()}\")\nprint(f\"  is_running(): {si.is_running()}\")\n\nprint(\"\\nControl methods available:\")\nprint(\"  si.status()         # Show detailed status\")\nprint(\"  si.stop()           # Stop the daemon\")\nprint(\"  si.run_if_stopped() # Start only if not running\")\nprint(\"  si.uninstall()      # Complete removal\")"
  },
  {
   "cell_type": "markdown",
   "metadata": {},
   "outputs": [],
   "source": "## 🛠️ For SyftBox App Builders\n\nIf you're building a SyftBox-based application, library, or tool, here's how syft-installer helps:\n\n### Before syft-installer:\n```python\n# Your app's setup instructions were complex:\n# 1. Install SyftBox manually\n# 2. Configure authentication\n# 3. Start the daemon\n# 4. Handle \"daemon not running\" errors\n# 5. THEN install your package\n# 6. THEN use your API\n```\n\n### With syft-installer:\n```python\n# Just include this in your package:\nimport syft_installer as si\nsi.run()  # Everything \"just works\"\n\n# Now your actual API:\nimport your_syftbox_app\nyour_syftbox_app.do_amazing_things()\n```\n\n**Your users get a perfect experience with zero setup complexity!**"
  },
  {
   "cell_type": "markdown",
   "metadata": {},
   "outputs": [],
   "source": "## 🤖 Non-Interactive Mode (Advanced)\n\nFor automation and CI/CD pipelines, syft-installer supports non-interactive installation:"
  },
  {
   "cell_type": "code",
   "metadata": {},
   "source": "# Example of non-interactive installation\n# (This would be used in automation scenarios)\n\nprint(\"Non-interactive installation pattern:\")\nprint(\"\"\"\n# For automation/CI-CD:\nsession = si.install(\"your@email.com\", interactive=False)\n\n# Submit OTP programmatically when received:\nsession.submit_otp(\"ABC123\")\n\n# Check status:\nprint(f\"Email: {session.email}\")\nprint(f\"Authenticated: {session.is_authenticated}\")\n\"\"\")",
   "outputs": []
  },
  {
   "cell_type": "markdown",
   "metadata": {},
   "source": "## 🧹 Clean Up (Optional)\n\nIf you want to remove SyftBox completely:",
   "outputs": []
  },
  {
   "cell_type": "code",
   "metadata": {},
   "outputs": [],
   "source": "# Uncomment to actually clean up:\n# si.uninstall()\n\nprint(\"To completely remove SyftBox:\")\nprint(\"si.uninstall()  # Removes everything\")\nprint(\"\")\nprint(\"This removes:\")\nprint(\"- SyftBox binary\")\nprint(\"- Configuration files (~/.syftbox/)\")\nprint(\"- Data directory (~/SyftBox/)\")\nprint(\"- Authentication tokens\")"
  },
  {
   "cell_type": "markdown",
   "metadata": {},
   "source": "## 🎉 That's It!\n\nYou've just seen how **syft-installer** makes SyftBox installation completely invisible to end users.\n\n### Key Takeaways:\n\n- **One line** installs and configures everything\n- **Zero setup** required from users\n- **Invisible infrastructure** - users never think about daemons or networks\n- **Perfect for builders** - focus on your app, not infrastructure\n\n### Next Steps:\n\n1. **[Browse the API](https://openmined.github.io/syft-installer/api/)** - Complete documentation\n2. **[Visit the project](https://github.com/OpenMined/syft-installer)** - Source code and examples\n3. **[Learn about SyftBox](https://syftbox.net)** - The platform this enables\n\n---\n\n**Built with ❤️ by [OpenMined](https://openmined.org)**",
   "outputs": []
  },
  {
   "cell_type": "code",
   "execution_count": null,
   "metadata": {},
   "outputs": [
    {
     "data": {
      "text/html": [
       "<pre style=\"white-space:pre;overflow-x:auto;line-height:normal;font-family:Menlo,'DejaVu Sans Mono',consolas,'Courier New',monospace\">\n",
       "⏹️  Stopped SyftBox client\n",
       "\n",
       "</pre>\n"
      ],
      "text/plain": [
       "\n",
       "⏹️  Stopped SyftBox client\n",
       "\n"
      ]
     },
     "metadata": {},
     "output_type": "display_data"
    },
    {
     "data": {
      "text/html": [
       "<pre style=\"white-space:pre;overflow-x:auto;line-height:normal;font-family:Menlo,'DejaVu Sans Mono',consolas,'Courier New',monospace\">\n",
       "<span style=\"font-weight: bold\">🚀 Starting SyftBox</span><span style=\"color: #808000; text-decoration-color: #808000; font-weight: bold\">...</span>\n",
       "\n",
       "</pre>\n"
      ],
      "text/plain": [
       "\n",
       "\u001b[1m🚀 Starting SyftBox\u001b[0m\u001b[1;33m...\u001b[0m\n",
       "\n"
      ]
     },
     "metadata": {},
     "output_type": "display_data"
    },
    {
     "data": {
      "text/html": [
       "<pre style=\"white-space:pre;overflow-x:auto;line-height:normal;font-family:Menlo,'DejaVu Sans Mono',consolas,'Courier New',monospace\">✅ SyftBox already installed for <span style=\"color: #008080; text-decoration-color: #008080\">liamtrask+</span><span style=\"color: #008080; text-decoration-color: #008080; font-weight: bold\">01</span><span style=\"color: #008080; text-decoration-color: #008080\">@gmail.com</span>\n",
       "</pre>\n"
      ],
      "text/plain": [
       "✅ SyftBox already installed for \u001b[36mliamtrask+\u001b[0m\u001b[1;36m01\u001b[0m\u001b[36m@gmail.com\u001b[0m\n"
      ]
     },
     "metadata": {},
     "output_type": "display_data"
    },
    {
     "data": {
      "text/html": [
       "<pre style=\"white-space:pre;overflow-x:auto;line-height:normal;font-family:Menlo,'DejaVu Sans Mono',consolas,'Courier New',monospace\">\n",
       "▶️  Starting SyftBox client<span style=\"color: #808000; text-decoration-color: #808000\">...</span>\n",
       "</pre>\n"
      ],
      "text/plain": [
       "\n",
       "▶️  Starting SyftBox client\u001b[33m...\u001b[0m\n"
      ]
     },
     "metadata": {},
     "output_type": "display_data"
    },
    {
     "data": {
      "text/html": [
       "<pre style=\"white-space:pre;overflow-x:auto;line-height:normal;font-family:Menlo,'DejaVu Sans Mono',consolas,'Courier New',monospace\">✅ SyftBox client started!\n",
       "\n",
       "</pre>\n"
      ],
      "text/plain": [
       "✅ SyftBox client started!\n",
       "\n"
      ]
     },
     "metadata": {},
     "output_type": "display_data"
    },
    {
     "data": {
      "text/html": [
       "<pre style=\"white-space:pre;overflow-x:auto;line-height:normal;font-family:Menlo,'DejaVu Sans Mono',consolas,'Courier New',monospace\"><span style=\"color: #008000; text-decoration-color: #008000\">╭──────────────────────────────────────────────── </span><span style=\"color: #008000; text-decoration-color: #008000; font-weight: bold\">SyftBox Status</span><span style=\"color: #008000; text-decoration-color: #008000\"> ─────────────────────────────────────────────────╮</span>\n",
       "<span style=\"color: #008000; text-decoration-color: #008000\">│</span>                                                                                                                 <span style=\"color: #008000; text-decoration-color: #008000\">│</span>\n",
       "<span style=\"color: #008000; text-decoration-color: #008000\">│</span>  <span style=\"color: #008080; text-decoration-color: #008080\"> Installed </span>  ✅ True                                                                                           <span style=\"color: #008000; text-decoration-color: #008000\">│</span>\n",
       "<span style=\"color: #008000; text-decoration-color: #008000\">│</span>  <span style=\"color: #008080; text-decoration-color: #008080\"> Running   </span>  ✅ True                                                                                           <span style=\"color: #008000; text-decoration-color: #008000\">│</span>\n",
       "<span style=\"color: #008000; text-decoration-color: #008000\">│</span>  <span style=\"color: #008080; text-decoration-color: #008080\"> Email     </span>  liamtrask+01@gmail.com                                                                            <span style=\"color: #008000; text-decoration-color: #008000\">│</span>\n",
       "<span style=\"color: #008000; text-decoration-color: #008000\">│</span>  <span style=\"color: #008080; text-decoration-color: #008080\"> Server    </span>  https://syftbox.net                                                                               <span style=\"color: #008000; text-decoration-color: #008000\">│</span>\n",
       "<span style=\"color: #008000; text-decoration-color: #008000\">│</span>  <span style=\"color: #008080; text-decoration-color: #008080\"> Data Dir  </span>  /Users/atrask/SyftBox                                                                             <span style=\"color: #008000; text-decoration-color: #008000\">│</span>\n",
       "<span style=\"color: #008000; text-decoration-color: #008000\">│</span>  <span style=\"color: #008080; text-decoration-color: #008080\"> Daemons   </span>  1 running (PIDs: 22288)                                                                           <span style=\"color: #008000; text-decoration-color: #008000\">│</span>\n",
       "<span style=\"color: #008000; text-decoration-color: #008000\">│</span>                                                                                                                 <span style=\"color: #008000; text-decoration-color: #008000\">│</span>\n",
       "<span style=\"color: #008000; text-decoration-color: #008000\">╰─────────────────────────────────────────────────────────────────────────────────────────────────────────────────╯</span>\n",
       "</pre>\n"
      ],
      "text/plain": [
       "\u001b[32m╭─\u001b[0m\u001b[32m───────────────────────────────────────────────\u001b[0m\u001b[32m \u001b[0m\u001b[1;32mSyftBox Status\u001b[0m\u001b[32m \u001b[0m\u001b[32m────────────────────────────────────────────────\u001b[0m\u001b[32m─╮\u001b[0m\n",
       "\u001b[32m│\u001b[0m                                                                                                                 \u001b[32m│\u001b[0m\n",
       "\u001b[32m│\u001b[0m  \u001b[36m \u001b[0m\u001b[36mInstalled\u001b[0m\u001b[36m \u001b[0m  ✅ True                                                                                           \u001b[32m│\u001b[0m\n",
       "\u001b[32m│\u001b[0m  \u001b[36m \u001b[0m\u001b[36mRunning  \u001b[0m\u001b[36m \u001b[0m  ✅ True                                                                                           \u001b[32m│\u001b[0m\n",
       "\u001b[32m│\u001b[0m  \u001b[36m \u001b[0m\u001b[36mEmail    \u001b[0m\u001b[36m \u001b[0m  liamtrask+01@gmail.com                                                                            \u001b[32m│\u001b[0m\n",
       "\u001b[32m│\u001b[0m  \u001b[36m \u001b[0m\u001b[36mServer   \u001b[0m\u001b[36m \u001b[0m  https://syftbox.net                                                                               \u001b[32m│\u001b[0m\n",
       "\u001b[32m│\u001b[0m  \u001b[36m \u001b[0m\u001b[36mData Dir \u001b[0m\u001b[36m \u001b[0m  /Users/atrask/SyftBox                                                                             \u001b[32m│\u001b[0m\n",
       "\u001b[32m│\u001b[0m  \u001b[36m \u001b[0m\u001b[36mDaemons  \u001b[0m\u001b[36m \u001b[0m  1 running (PIDs: 22288)                                                                           \u001b[32m│\u001b[0m\n",
       "\u001b[32m│\u001b[0m                                                                                                                 \u001b[32m│\u001b[0m\n",
       "\u001b[32m╰─────────────────────────────────────────────────────────────────────────────────────────────────────────────────╯\u001b[0m\n"
      ]
     },
     "metadata": {},
     "output_type": "display_data"
    },
    {
     "data": {
      "text/html": [
       "<pre style=\"white-space:pre;overflow-x:auto;line-height:normal;font-family:Menlo,'DejaVu Sans Mono',consolas,'Courier New',monospace\">\n",
       "🔄 Restarting SyftBox client<span style=\"color: #808000; text-decoration-color: #808000\">...</span>\n",
       "\n",
       "</pre>\n"
      ],
      "text/plain": [
       "\n",
       "🔄 Restarting SyftBox client\u001b[33m...\u001b[0m\n",
       "\n"
      ]
     },
     "metadata": {},
     "output_type": "display_data"
    },
    {
     "name": "stdout",
     "output_type": "stream",
     "text": [
      "2025-07-21T17:27:37.057-04:00 INF syftbox version=0.7.0 revision=56ab5dc build=2025-07-15T05:49:25Z\n",
      "2025-07-21T17:27:37.058-04:00 INF auth enabled\n",
      "2025-07-21T17:27:37.058-04:00 INF swagger enabled\n",
      "2025-07-21T17:27:37.058-04:00 INF client daemon start\n",
      "2025-07-21T17:27:37.058-04:00 INF control plane start addr=http://localhost:7938 token=886aed97a2989b9a969fccf68316aecc\n",
      "2025-07-21T17:27:37.058-04:00 INF datasite manager start\n",
      "2025-07-21T17:27:37.058-04:00 INF default config found. provisioning datasite.\n",
      "2025-07-21T17:27:37.058-04:00 INF datasite start id=692568 config.data_dir=/Users/atrask/SyftBox config.email=liamtrask+01@gmail.com config.server_url=https://syftbox.net config.client_url=http://localhost:7938 config.apps_enabled=true config.refresh_token=true config.access_token=false config.path=/Users/atrask/.syftbox/config.json\n",
      "2025-07-21T17:27:37.058-04:00 INF workspace root=/Users/atrask/SyftBox\n",
      "2025-07-21T17:27:37.546-04:00 INF authenticating with the server\n",
      "2025-07-21T17:27:37.547-04:00 DBG sdk: refreshing auth tokens\n",
      "2025-07-21T17:27:37.608-04:00 DBG sdk: update access token user=liamtrask+01@gmail.com expiry=2025-07-24T17:27:37-04:00\n",
      "2025-07-21T17:27:37.609-04:00 INF authenticated user=liamtrask+01@gmail.com\n",
      "2025-07-21T17:27:37.609-04:00 INF scheduler start appdir=/Users/atrask/SyftBox/apps\n",
      "2025-07-21T17:27:37.609-04:00 INF sync manager start\n",
      "2025-07-21T17:27:37.610-04:00 INF sync start\n",
      "2025-07-21T17:27:37.610-04:00 DBG open db driver=sqlite3 path=/Users/atrask/SyftBox/.data/sync.db\n",
      "2025-07-21T17:27:38.555-04:00 INF running initial sync\n",
      "2025-07-21T17:27:39.371-04:00 WRN unresolved conflict path=liamtrask@gmail.com/syft.pub.conflict.20250721165150.yaml\n",
      "2025-07-21T17:27:39.371-04:00 WRN unresolved conflict path=liamtrask@gmail.com/syft.pub.conflict.yaml\n",
      "2025-07-21T17:27:39.505-04:00 INF full sync start downloads=1 uploads=0 localDeletes=0 remoteDeletes=0 conflicts=0\n",
      "2025-07-21T17:27:39.674-04:00 INF sync type=Standard op=WriteLocal status=Completed path=mail@andreibratu.com/app_data/data-syncer/rpc/query_transcription_chunks/47b1cafe-12f3-4663-b897-6755232a5e48.request size=\"647 B\"\n",
      "2025-07-21T17:27:39.674-04:00 INF full sync completed total=2741 downloads=1 uploads=0 localDeletes=0 remoteDeletes=0 unchanged=2733 cleanups=0 ignored=7 status.syncing=0 status.unresolvedConflicts=1 status.unresolvedRejects=0 ts.remoteState=110.985941ms ts.localState=691.332335ms ts.journalState=5.398941ms ts.reconcile=127.789272ms ts.total=1.105689089s\n",
      "2025-07-21T17:27:39.674-04:00 INF starting file watcher\n",
      "2025-07-21T17:27:39.674-04:00 INF file watcher start dir=/Users/atrask/SyftBox/datasites\n",
      "2025-07-21T17:27:39.674-04:00 INF listening for websocket events\n",
      "2025-07-21T17:27:39.745-04:00 INF socketmgr client connected\n",
      "2025-07-21T17:27:39.745-04:00 DBG socket RECV id=47ee18 type=SYSTEM\n",
      "2025-07-21T17:27:39.745-04:00 DBG socketmgr RECV id=47ee18 type=SYSTEM\n",
      "2025-07-21T17:27:39.745-04:00 INF handle socket message msgType=SYSTEM msgId=47ee18 serverVersion=0.7.0\n",
      "2025-07-21T17:27:45.029-04:00 INF full sync start downloads=2 uploads=0 localDeletes=0 remoteDeletes=0 conflicts=0\n",
      "2025-07-21T17:27:45.093-04:00 INF sync type=Standard op=WriteLocal status=Completed path=abyesilyurt@gmail.com/app_data/data-syncer/rpc/query_transcription_chunks/a876dea0-c376-4d04-aa55-0791bc804b01.request size=\"649 B\"\n",
      "2025-07-21T17:27:45.128-04:00 INF sync type=Standard op=WriteLocal status=Completed path=abyesilyurt@gmail.com/app_data/data-syncer/rpc/get_latest_file_to_sync/c1b54f27-d470-49ef-ac46-51933eba1266.request size=\"646 B\"\n",
      "2025-07-21T17:27:45.128-04:00 INF full sync completed total=2743 downloads=2 uploads=0 localDeletes=0 remoteDeletes=0 unchanged=2734 cleanups=0 ignored=7 status.syncing=0 status.unresolvedConflicts=1 status.unresolvedRejects=0 ts.remoteState=35.390592ms ts.localState=86.898383ms ts.journalState=4.843663ms ts.reconcile=129.733198ms ts.total=355.894664ms\n",
      "2025-07-21T17:27:50.460-04:00 INF full sync start downloads=2 uploads=0 localDeletes=0 remoteDeletes=0 conflicts=0\n",
      "2025-07-21T17:27:50.522-04:00 INF sync type=Standard op=WriteLocal status=Completed path=mail@andreibratu.com/app_data/data-syncer/rpc/query_transcription_chunks/c8ea96c5-2227-4ad7-9e29-77061046c84f.request size=\"647 B\"\n",
      "2025-07-21T17:27:50.532-04:00 INF sync type=Standard op=WriteLocal status=Completed path=mail@andreibratu.com/app_data/data-syncer/rpc/get_latest_file_to_sync/972c4512-f699-462e-b1cd-38c8f60da821.request size=\"644 B\"\n",
      "2025-07-21T17:27:50.532-04:00 INF full sync completed total=2745 downloads=2 uploads=0 localDeletes=0 remoteDeletes=0 unchanged=2736 cleanups=0 ignored=7 status.syncing=0 status.unresolvedConflicts=1 status.unresolvedRejects=0 ts.remoteState=100.047546ms ts.localState=86.859825ms ts.journalState=5.144629ms ts.reconcile=126.973675ms ts.total=390.993338ms\n",
      "2025-07-21T17:27:55.837-04:00 INF full sync start downloads=1 uploads=0 localDeletes=0 remoteDeletes=0 conflicts=0\n",
      "2025-07-21T17:27:55.912-04:00 INF sync type=Standard op=WriteLocal status=Completed path=abyesilyurt@gmail.com/app_data/data-syncer/rpc/query_transcription_chunks/7a1a46f0-0c1b-4e6b-b5fa-481a4484f543.request size=\"649 B\"\n",
      "2025-07-21T17:27:55.913-04:00 INF full sync completed total=2746 downloads=1 uploads=0 localDeletes=0 remoteDeletes=0 unchanged=2738 cleanups=0 ignored=7 status.syncing=0 status.unresolvedConflicts=1 status.unresolvedRejects=0 ts.remoteState=74.727164ms ts.localState=86.607495ms ts.journalState=4.875845ms ts.reconcile=126.703375ms ts.total=368.986168ms\n",
      "2025-07-21T17:28:01.207-04:00 INF full sync start downloads=3 uploads=0 localDeletes=0 remoteDeletes=0 conflicts=0\n",
      "2025-07-21T17:28:01.319-04:00 INF sync type=Standard op=WriteLocal status=Completed path=abyesilyurt@gmail.com/app_data/data-syncer/rpc/get_latest_file_to_sync/09695874-2430-4bb0-bd17-753f742c7717.request size=\"646 B\"\n",
      "2025-07-21T17:28:01.319-04:00 INF sync type=Standard op=WriteLocal status=Completed path=mail@andreibratu.com/app_data/data-syncer/rpc/get_latest_file_to_sync/7e85bb35-b0c5-4881-b38d-338aca3769ed.request size=\"644 B\"\n",
      "2025-07-21T17:28:01.324-04:00 INF sync type=Standard op=WriteLocal status=Completed path=mail@andreibratu.com/app_data/data-syncer/rpc/query_transcription_chunks/10b026a1-71d5-4603-9466-9e682c88e2e2.request size=\"645 B\"\n",
      "2025-07-21T17:28:01.324-04:00 INF full sync completed total=2749 downloads=3 uploads=0 localDeletes=0 remoteDeletes=0 unchanged=2739 cleanups=0 ignored=7 status.syncing=0 status.unresolvedConflicts=1 status.unresolvedRejects=0 ts.remoteState=58.083635ms ts.localState=88.700919ms ts.journalState=5.903733ms ts.reconcile=130.247118ms ts.total=399.447911ms\n",
      "2025-07-21T17:28:06.681-04:00 INF full sync start downloads=0 uploads=0 localDeletes=12 remoteDeletes=0 conflicts=0\n",
      "2025-07-21T17:28:06.681-04:00 INF sync type=Standard op=DeleteLocal path=mail@andreibratu.com/app_data/data-syncer/rpc/get_latest_file_to_sync/ae8d04c3-8fcb-4694-8e3d-dc83ba1114ff.request\n",
      "2025-07-21T17:28:06.682-04:00 INF sync type=Standard op=DeleteLocal path=mail@andreibratu.com/app_data/data-syncer/rpc/get_latest_file_to_sync/cf533ddf-9dfc-459a-85ec-ae9c9f72186b.request\n",
      "2025-07-21T17:28:06.682-04:00 INF sync type=Standard op=DeleteLocal path=mail@andreibratu.com/app_data/data-syncer/rpc/get_latest_file_to_sync/88678fb5-e379-4eca-a019-c27dfd28182c.request\n",
      "2025-07-21T17:28:06.682-04:00 INF sync type=Standard op=DeleteLocal path=abyesilyurt@gmail.com/app_data/data-syncer/rpc/get_latest_file_to_sync/2596c6e3-ccfc-47bd-96f1-fa792d3a5c29.request\n",
      "2025-07-21T17:28:06.682-04:00 INF sync type=Standard op=DeleteLocal path=mail@andreibratu.com/app_data/data-syncer/rpc/query_transcription_chunks/b1074286-8b54-415a-afe7-5d02a2979112.request\n",
      "2025-07-21T17:28:06.682-04:00 INF sync type=Standard op=DeleteLocal path=abyesilyurt@gmail.com/app_data/data-syncer/rpc/query_transcription_chunks/61486ba1-7349-465a-bdc6-5b1875e654ce.request\n",
      "2025-07-21T17:28:06.683-04:00 INF sync type=Standard op=DeleteLocal path=mail@andreibratu.com/app_data/data-syncer/rpc/query_transcription_chunks/5d73bcac-5440-47a6-8ce8-5d840f0c2940.request\n",
      "2025-07-21T17:28:06.683-04:00 INF sync type=Standard op=DeleteLocal path=abyesilyurt@gmail.com/app_data/data-syncer/rpc/get_latest_file_to_sync/2377efe1-e9bc-4d4d-b3f1-41744c454caf.request\n",
      "2025-07-21T17:28:06.683-04:00 INF sync type=Standard op=DeleteLocal path=mail@andreibratu.com/app_data/data-syncer/rpc/query_transcription_chunks/07173b2b-d292-4e9f-8542-95c3f741f6d4.request\n",
      "2025-07-21T17:28:06.684-04:00 INF sync type=Standard op=DeleteLocal path=mail@andreibratu.com/app_data/data-syncer/rpc/query_transcription_chunks/323a2519-7d5f-4872-bdb5-67ff87d0a693.request\n",
      "2025-07-21T17:28:06.684-04:00 INF sync type=Standard op=DeleteLocal path=abyesilyurt@gmail.com/app_data/data-syncer/rpc/query_transcription_chunks/30446196-25d8-4d4d-af62-4fea2d924697.request\n",
      "2025-07-21T17:28:06.684-04:00 INF sync type=Standard op=DeleteLocal path=mail@andreibratu.com/app_data/data-syncer/rpc/get_latest_file_to_sync/04c54d80-7732-47be-8b2c-756e0e17d58d.request\n",
      "2025-07-21T17:28:06.685-04:00 INF full sync completed total=2749 downloads=0 uploads=0 localDeletes=12 remoteDeletes=0 unchanged=2730 cleanups=0 ignored=7 status.syncing=0 status.unresolvedConflicts=1 status.unresolvedRejects=0 ts.remoteState=87.406438ms ts.localState=89.023327ms ts.journalState=5.343472ms ts.reconcile=128.245627ms ts.total=313.966592ms\n"
     ]
    }
   ],
   "source": [
    "# Stop the daemon\n",
    "si.stop()\n",
    "\n",
    "# Start it again\n",
    "si.run()\n",
    "\n",
    "# Or restart\n",
    "si.restart()"
   ]
  },
  {
   "cell_type": "markdown",
   "metadata": {},
   "source": [
    "## Quick Checks"
   ]
  },
  {
   "cell_type": "code",
   "execution_count": null,
   "metadata": {},
   "outputs": [],
   "source": [
    "# Is it installed?\n",
    "print(f\"Installed: {si.is_installed()}\")\n",
    "\n",
    "# Is it running?\n",
    "print(f\"Running: {si.is_running()}\")"
   ]
  },
  {
   "cell_type": "markdown",
   "metadata": {},
   "source": [
    "## Uninstall (if needed)"
   ]
  },
  {
   "cell_type": "code",
   "execution_count": null,
   "metadata": {},
   "outputs": [],
   "source": [
    "# This removes everything - be careful!\n",
    "# si.uninstall()"
   ]
  },
  {
   "cell_type": "markdown",
   "metadata": {},
   "source": [
    "---\n",
    "\n",
    "That's the entire API! 🎉\n",
    "\n",
    "**Key Points:**\n",
    "- `si.run()` handles everything automatically\n",
    "- Works in Colab, Jupyter, and terminal\n",
    "- No configuration needed\n",
    "- Beautiful status displays"
   ]
  }
 ],
 "metadata": {
  "kernelspec": {
   "display_name": "Python 3 (ipykernel)",
   "language": "python",
   "name": "python3"
  },
  "language_info": {
   "codemirror_mode": {
    "name": "ipython",
    "version": 3
   },
   "file_extension": ".py",
   "mimetype": "text/x-python",
   "name": "python",
   "nbconvert_exporter": "python",
   "pygments_lexer": "ipython3",
   "version": "3.12.7"
  }
 },
 "nbformat": 4,
 "nbformat_minor": 4
}