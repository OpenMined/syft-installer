{
 "cells": [
  {
   "cell_type": "markdown",
   "metadata": {},
   "source": [
    "# SyftBox Quickstart\n",
    "\n",
    "Install and run SyftBox in seconds."
   ]
  },
  {
   "cell_type": "markdown",
   "metadata": {},
   "source": [
    "## Install the package"
   ]
  },
  {
   "cell_type": "code",
   "execution_count": null,
   "metadata": {},
   "outputs": [],
   "source": [
    "!pip install syft-installer"
   ]
  },
  {
   "cell_type": "markdown",
   "metadata": {},
   "source": [
    "## Run SyftBox (that's it!)"
   ]
  },
  {
   "cell_type": "code",
   "metadata": {},
   "outputs": [],
   "source": "import syft_installer as si\n\n# This one line does everything:\n# - Downloads SyftBox if needed\n# - Handles email/OTP authentication  \n# - Starts the background daemon\n# - Shows you the status\nsi.run()"
  },
  {
   "cell_type": "markdown",
   "metadata": {},
   "source": [
    "## Check Status"
   ]
  },
  {
   "cell_type": "code",
   "metadata": {},
   "outputs": [],
   "source": "# See what's running\nsi.status()"
  },
  {
   "cell_type": "markdown",
   "metadata": {},
   "source": [
    "## Manage SyftBox"
   ]
  },
  {
   "cell_type": "code",
   "metadata": {},
   "outputs": [],
   "source": "# Stop the daemon\nsi.stop()\n\n# Start it again\nsi.run()\n\n# Or restart\nsi.restart()"
  },
  {
   "cell_type": "markdown",
   "metadata": {},
   "source": [
    "## Quick Checks"
   ]
  },
  {
   "cell_type": "code",
   "metadata": {},
   "outputs": [],
   "source": "# Is it installed?\nprint(f\"Installed: {si.is_installed()}\")\n\n# Is it running?\nprint(f\"Running: {si.is_running()}\")"
  },
  {
   "cell_type": "markdown",
   "metadata": {},
   "source": [
    "## Uninstall (if needed)"
   ]
  },
  {
   "cell_type": "code",
   "metadata": {},
   "outputs": [],
   "source": "# This removes everything - be careful!\n# si.uninstall()"
  },
  {
   "cell_type": "markdown",
   "metadata": {},
   "source": "---\n\nThat's the entire API! 🎉\n\n**Key Points:**\n- `si.run()` handles everything automatically\n- Works in Colab, Jupyter, and terminal\n- No configuration needed\n- Beautiful status displays",
   "outputs": []
  }
 ],
 "metadata": {
  "kernelspec": {
   "display_name": "Python 3",
   "language": "python",
   "name": "python3"
  },
  "language_info": {
   "codemirror_mode": {
    "name": "ipython",
    "version": 3
   },
   "file_extension": ".py",
   "mimetype": "text/x-python",
   "name": "python",
   "nbconvert_exporter": "python",
   "pygments_lexer": "ipython3",
   "version": "3.10.0"
  }
 },
 "nbformat": 4,
 "nbformat_minor": 4
}