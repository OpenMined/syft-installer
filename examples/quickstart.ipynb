{
 "cells": [
  {
   "cell_type": "markdown",
   "metadata": {},
   "source": [
    "# SyftBox Quickstart\n",
    "\n",
    "Install and run SyftBox in seconds."
   ]
  },
  {
   "cell_type": "markdown",
   "metadata": {},
   "source": [
    "## Install the package"
   ]
  },
  {
   "cell_type": "code",
   "execution_count": 1,
   "metadata": {},
   "outputs": [],
   "source": [
    "# !pip install syft-installer"
   ]
  },
  {
   "cell_type": "markdown",
   "metadata": {},
   "source": [
    "## Run SyftBox (that's it!)"
   ]
  },
  {
   "cell_type": "code",
   "execution_count": 2,
   "metadata": {},
   "outputs": [],
   "source": [
    "import syft_installer as si"
   ]
  },
  {
   "cell_type": "code",
   "execution_count": 5,
   "metadata": {},
   "outputs": [
    {
     "data": {
      "text/html": [
       "<pre style=\"white-space:pre;overflow-x:auto;line-height:normal;font-family:Menlo,'DejaVu Sans Mono',consolas,'Courier New',monospace\">\n",
       "<span style=\"color: #800000; text-decoration-color: #800000; font-weight: bold\">⚠️  WARNING: This will completely remove SyftBox!</span>\n",
       "</pre>\n"
      ],
      "text/plain": [
       "\n",
       "\u001b[1;31m⚠️  WARNING: This will completely remove SyftBox!\u001b[0m\n"
      ]
     },
     "metadata": {},
     "output_type": "display_data"
    },
    {
     "data": {
      "text/html": [
       "<pre style=\"white-space:pre;overflow-x:auto;line-height:normal;font-family:Menlo,'DejaVu Sans Mono',consolas,'Courier New',monospace\">\n",
       "This will delete:\n",
       "</pre>\n"
      ],
      "text/plain": [
       "\n",
       "This will delete:\n"
      ]
     },
     "metadata": {},
     "output_type": "display_data"
    },
    {
     "data": {
      "text/html": [
       "<pre style=\"white-space:pre;overflow-x:auto;line-height:normal;font-family:Menlo,'DejaVu Sans Mono',consolas,'Courier New',monospace\">  • <span style=\"color: #800000; text-decoration-color: #800000\">~/SyftBox</span> <span style=\"font-weight: bold\">(</span>all your data<span style=\"font-weight: bold\">)</span>\n",
       "</pre>\n"
      ],
      "text/plain": [
       "  • \u001b[31m~\u001b[0m\u001b[31m/\u001b[0m\u001b[31mSyftBox\u001b[0m \u001b[1m(\u001b[0mall your data\u001b[1m)\u001b[0m\n"
      ]
     },
     "metadata": {},
     "output_type": "display_data"
    },
    {
     "data": {
      "text/html": [
       "<pre style=\"white-space:pre;overflow-x:auto;line-height:normal;font-family:Menlo,'DejaVu Sans Mono',consolas,'Courier New',monospace\">  • <span style=\"color: #800000; text-decoration-color: #800000\">~/.syftbox</span> <span style=\"font-weight: bold\">(</span>configuration<span style=\"font-weight: bold\">)</span>\n",
       "</pre>\n"
      ],
      "text/plain": [
       "  • \u001b[31m~\u001b[0m\u001b[31m/\u001b[0m\u001b[31m.syftbox\u001b[0m \u001b[1m(\u001b[0mconfiguration\u001b[1m)\u001b[0m\n"
      ]
     },
     "metadata": {},
     "output_type": "display_data"
    },
    {
     "data": {
      "text/html": [
       "<pre style=\"white-space:pre;overflow-x:auto;line-height:normal;font-family:Menlo,'DejaVu Sans Mono',consolas,'Courier New',monospace\">  • <span style=\"color: #800000; text-decoration-color: #800000\">~/.local/bin/syftbox</span> <span style=\"font-weight: bold\">(</span>binary<span style=\"font-weight: bold\">)</span>\n",
       "</pre>\n"
      ],
      "text/plain": [
       "  • \u001b[31m~\u001b[0m\u001b[31m/.local/bin/\u001b[0m\u001b[31msyftbox\u001b[0m \u001b[1m(\u001b[0mbinary\u001b[1m)\u001b[0m\n"
      ]
     },
     "metadata": {},
     "output_type": "display_data"
    },
    {
     "data": {
      "text/html": [
       "<pre style=\"white-space:pre;overflow-x:auto;line-height:normal;font-family:Menlo,'DejaVu Sans Mono',consolas,'Courier New',monospace\">\n",
       "</pre>\n"
      ],
      "text/plain": [
       "\n"
      ]
     },
     "metadata": {},
     "output_type": "display_data"
    },
    {
     "data": {
      "text/html": [
       "<pre style=\"white-space:pre;overflow-x:auto;line-height:normal;font-family:Menlo,'DejaVu Sans Mono',consolas,'Courier New',monospace\">Type <span style=\"color: #008000; text-decoration-color: #008000\">'yes'</span> to confirm: </pre>\n"
      ],
      "text/plain": [
       "Type \u001b[32m'yes'\u001b[0m to confirm: "
      ]
     },
     "metadata": {},
     "output_type": "display_data"
    },
    {
     "name": "stdin",
     "output_type": "stream",
     "text": [
      " yes\n"
     ]
    },
    {
     "data": {
      "text/html": [
       "<pre style=\"white-space:pre;overflow-x:auto;line-height:normal;font-family:Menlo,'DejaVu Sans Mono',consolas,'Courier New',monospace\">\n",
       "🗑️  Uninstalling SyftBox<span style=\"color: #808000; text-decoration-color: #808000\">...</span>\n",
       "\n",
       "</pre>\n"
      ],
      "text/plain": [
       "\n",
       "🗑️  Uninstalling SyftBox\u001b[33m...\u001b[0m\n",
       "\n"
      ]
     },
     "metadata": {},
     "output_type": "display_data"
    },
    {
     "name": "stdout",
     "output_type": "stream",
     "text": [
      "🔍 DaemonManager: Looking for syftbox processes...\n",
      "   Found 893 total processes\n",
      "   Found 0 syftbox processes\n"
     ]
    },
    {
     "data": {
      "text/html": [
       "<pre style=\"white-space:pre;overflow-x:auto;line-height:normal;font-family:Menlo,'DejaVu Sans Mono',consolas,'Courier New',monospace\">🗑️  Deleted <span style=\"color: #800080; text-decoration-color: #800080\">/Users/atrask/</span><span style=\"color: #ff00ff; text-decoration-color: #ff00ff\">SyftBox</span>\n",
       "</pre>\n"
      ],
      "text/plain": [
       "🗑️  Deleted \u001b[35m/Users/atrask/\u001b[0m\u001b[95mSyftBox\u001b[0m\n"
      ]
     },
     "metadata": {},
     "output_type": "display_data"
    },
    {
     "data": {
      "text/html": [
       "<pre style=\"white-space:pre;overflow-x:auto;line-height:normal;font-family:Menlo,'DejaVu Sans Mono',consolas,'Courier New',monospace\">🗑️  Deleted <span style=\"color: #800080; text-decoration-color: #800080\">/Users/atrask/</span><span style=\"color: #ff00ff; text-decoration-color: #ff00ff\">.syftbox</span>\n",
       "</pre>\n"
      ],
      "text/plain": [
       "🗑️  Deleted \u001b[35m/Users/atrask/\u001b[0m\u001b[95m.syftbox\u001b[0m\n"
      ]
     },
     "metadata": {},
     "output_type": "display_data"
    },
    {
     "data": {
      "text/html": [
       "<pre style=\"white-space:pre;overflow-x:auto;line-height:normal;font-family:Menlo,'DejaVu Sans Mono',consolas,'Courier New',monospace\">🗑️  Deleted <span style=\"color: #800080; text-decoration-color: #800080\">/Users/atrask/.local/bin/</span><span style=\"color: #ff00ff; text-decoration-color: #ff00ff\">syftbox</span>\n",
       "</pre>\n"
      ],
      "text/plain": [
       "🗑️  Deleted \u001b[35m/Users/atrask/.local/bin/\u001b[0m\u001b[95msyftbox\u001b[0m\n"
      ]
     },
     "metadata": {},
     "output_type": "display_data"
    },
    {
     "data": {
      "text/html": [
       "<pre style=\"white-space:pre;overflow-x:auto;line-height:normal;font-family:Menlo,'DejaVu Sans Mono',consolas,'Courier New',monospace\">\n",
       "✅ SyftBox uninstalled completely!\n",
       "\n",
       "</pre>\n"
      ],
      "text/plain": [
       "\n",
       "✅ SyftBox uninstalled completely!\n",
       "\n"
      ]
     },
     "metadata": {},
     "output_type": "display_data"
    }
   ],
   "source": [
    "si.uninstall()"
   ]
  },
  {
   "cell_type": "code",
   "execution_count": 7,
   "metadata": {},
   "outputs": [
    {
     "data": {
      "text/html": [
       "<pre style=\"white-space:pre;overflow-x:auto;line-height:normal;font-family:Menlo,'DejaVu Sans Mono',consolas,'Courier New',monospace\">\n",
       "<span style=\"font-weight: bold\">🚀 Starting SyftBox</span><span style=\"color: #808000; text-decoration-color: #808000; font-weight: bold\">...</span><span style=\"font-weight: bold\"> (syft-installer v0.</span><span style=\"color: #008080; text-decoration-color: #008080; font-weight: bold\">8.15</span><span style=\"font-weight: bold\">)</span>\n",
       "\n",
       "</pre>\n"
      ],
      "text/plain": [
       "\n",
       "\u001b[1m🚀 Starting SyftBox\u001b[0m\u001b[1;33m...\u001b[0m\u001b[1m \u001b[0m\u001b[1m(\u001b[0m\u001b[1msyft-installer v0.\u001b[0m\u001b[1;36m8.15\u001b[0m\u001b[1m)\u001b[0m\n",
       "\n"
      ]
     },
     "metadata": {},
     "output_type": "display_data"
    },
    {
     "data": {
      "text/html": [
       "<pre style=\"white-space:pre;overflow-x:auto;line-height:normal;font-family:Menlo,'DejaVu Sans Mono',consolas,'Courier New',monospace\">✅ SyftBox installed for <span style=\"color: #008080; text-decoration-color: #008080\">liamtrask@gmail.com</span>\n",
       "</pre>\n"
      ],
      "text/plain": [
       "✅ SyftBox installed for \u001b[36mliamtrask@gmail.com\u001b[0m\n"
      ]
     },
     "metadata": {},
     "output_type": "display_data"
    },
    {
     "name": "stdout",
     "output_type": "stream",
     "text": [
      "\n",
      "📊 Checking SyftBox running status...\n",
      "🔍 Checking if SyftBox is running...\n",
      "   pgrep return code: 0\n",
      "   pgrep stdout: '27637\\n'\n",
      "   pgrep stderr: ''\n",
      "   Found PIDs: ['27637']\n",
      "📊 Result: True\n",
      "\n"
     ]
    },
    {
     "data": {
      "text/html": [
       "<pre style=\"white-space:pre;overflow-x:auto;line-height:normal;font-family:Menlo,'DejaVu Sans Mono',consolas,'Courier New',monospace\">✅ SyftBox client already running!\n",
       "\n",
       "</pre>\n"
      ],
      "text/plain": [
       "✅ SyftBox client already running!\n",
       "\n"
      ]
     },
     "metadata": {},
     "output_type": "display_data"
    },
    {
     "name": "stdout",
     "output_type": "stream",
     "text": [
      "\n",
      "📊 Checking SyftBox running status...\n",
      "🔍 Checking if SyftBox is running...\n",
      "   pgrep return code: 0\n",
      "   pgrep stdout: '27637\\n'\n",
      "   pgrep stderr: ''\n",
      "   Found PIDs: ['27637']\n",
      "📊 Result: True\n",
      "\n",
      "\n",
      "📊 Checking SyftBox running status...\n",
      "🔍 Checking if SyftBox is running...\n",
      "   pgrep return code: 0\n",
      "   pgrep stdout: '27637\\n'\n",
      "   pgrep stderr: ''\n",
      "   Found PIDs: ['27637']\n",
      "📊 Result: True\n",
      "\n",
      "🔍 DaemonManager: Looking for syftbox processes...\n",
      "   Found 917 total processes\n",
      "   Syftbox process found: atrask           27637   2.6  0.2 36129452 104664   ??  Ss    8:21pm   0:05.69 /...\n",
      "   Found 1 syftbox processes\n"
     ]
    },
    {
     "data": {
      "text/html": [
       "<pre style=\"white-space:pre;overflow-x:auto;line-height:normal;font-family:Menlo,'DejaVu Sans Mono',consolas,'Courier New',monospace\"><span style=\"color: #008000; text-decoration-color: #008000\">╭──────────────────────────────────────────────── </span><span style=\"color: #008000; text-decoration-color: #008000; font-weight: bold\">SyftBox Status</span><span style=\"color: #008000; text-decoration-color: #008000\"> ─────────────────────────────────────────────────╮</span>\n",
       "<span style=\"color: #008000; text-decoration-color: #008000\">│</span>                                                                                                                 <span style=\"color: #008000; text-decoration-color: #008000\">│</span>\n",
       "<span style=\"color: #008000; text-decoration-color: #008000\">│</span>  <span style=\"color: #008080; text-decoration-color: #008080\"> Installed </span>  ✅ True                                                                                           <span style=\"color: #008000; text-decoration-color: #008000\">│</span>\n",
       "<span style=\"color: #008000; text-decoration-color: #008000\">│</span>  <span style=\"color: #008080; text-decoration-color: #008080\"> Running   </span>  ✅ True                                                                                           <span style=\"color: #008000; text-decoration-color: #008000\">│</span>\n",
       "<span style=\"color: #008000; text-decoration-color: #008000\">│</span>  <span style=\"color: #008080; text-decoration-color: #008080\"> Email     </span>  liamtrask@gmail.com                                                                               <span style=\"color: #008000; text-decoration-color: #008000\">│</span>\n",
       "<span style=\"color: #008000; text-decoration-color: #008000\">│</span>  <span style=\"color: #008080; text-decoration-color: #008080\"> Server    </span>  https://syftbox.net                                                                               <span style=\"color: #008000; text-decoration-color: #008000\">│</span>\n",
       "<span style=\"color: #008000; text-decoration-color: #008000\">│</span>  <span style=\"color: #008080; text-decoration-color: #008080\"> Data Dir  </span>  /Users/atrask/SyftBox                                                                             <span style=\"color: #008000; text-decoration-color: #008000\">│</span>\n",
       "<span style=\"color: #008000; text-decoration-color: #008000\">│</span>  <span style=\"color: #008080; text-decoration-color: #008080\"> Daemons   </span>  1 running (PIDs: 27637)                                                                           <span style=\"color: #008000; text-decoration-color: #008000\">│</span>\n",
       "<span style=\"color: #008000; text-decoration-color: #008000\">│</span>                                                                                                                 <span style=\"color: #008000; text-decoration-color: #008000\">│</span>\n",
       "<span style=\"color: #008000; text-decoration-color: #008000\">╰─────────────────────────────────────────────────────────────────────────────────────────────────────────────────╯</span>\n",
       "</pre>\n"
      ],
      "text/plain": [
       "\u001b[32m╭─\u001b[0m\u001b[32m───────────────────────────────────────────────\u001b[0m\u001b[32m \u001b[0m\u001b[1;32mSyftBox Status\u001b[0m\u001b[32m \u001b[0m\u001b[32m────────────────────────────────────────────────\u001b[0m\u001b[32m─╮\u001b[0m\n",
       "\u001b[32m│\u001b[0m                                                                                                                 \u001b[32m│\u001b[0m\n",
       "\u001b[32m│\u001b[0m  \u001b[36m \u001b[0m\u001b[36mInstalled\u001b[0m\u001b[36m \u001b[0m  ✅ True                                                                                           \u001b[32m│\u001b[0m\n",
       "\u001b[32m│\u001b[0m  \u001b[36m \u001b[0m\u001b[36mRunning  \u001b[0m\u001b[36m \u001b[0m  ✅ True                                                                                           \u001b[32m│\u001b[0m\n",
       "\u001b[32m│\u001b[0m  \u001b[36m \u001b[0m\u001b[36mEmail    \u001b[0m\u001b[36m \u001b[0m  liamtrask@gmail.com                                                                               \u001b[32m│\u001b[0m\n",
       "\u001b[32m│\u001b[0m  \u001b[36m \u001b[0m\u001b[36mServer   \u001b[0m\u001b[36m \u001b[0m  https://syftbox.net                                                                               \u001b[32m│\u001b[0m\n",
       "\u001b[32m│\u001b[0m  \u001b[36m \u001b[0m\u001b[36mData Dir \u001b[0m\u001b[36m \u001b[0m  /Users/atrask/SyftBox                                                                             \u001b[32m│\u001b[0m\n",
       "\u001b[32m│\u001b[0m  \u001b[36m \u001b[0m\u001b[36mDaemons  \u001b[0m\u001b[36m \u001b[0m  1 running (PIDs: 27637)                                                                           \u001b[32m│\u001b[0m\n",
       "\u001b[32m│\u001b[0m                                                                                                                 \u001b[32m│\u001b[0m\n",
       "\u001b[32m╰─────────────────────────────────────────────────────────────────────────────────────────────────────────────────╯\u001b[0m\n"
      ]
     },
     "metadata": {},
     "output_type": "display_data"
    }
   ],
   "source": [
    "si.run(email=\"liamtrask@gmail.com\")"
   ]
  },
  {
   "cell_type": "code",
   "execution_count": 3,
   "metadata": {},
   "outputs": [
    {
     "data": {
      "text/plain": [
       "1"
      ]
     },
     "execution_count": 3,
     "metadata": {},
     "output_type": "execute_result"
    }
   ],
   "source": [
    "si.kill_all_daemons()"
   ]
  },
  {
   "cell_type": "code",
   "execution_count": 4,
   "metadata": {},
   "outputs": [
    {
     "data": {
      "text/html": [
       "<pre style=\"white-space:pre;overflow-x:auto;line-height:normal;font-family:Menlo,'DejaVu Sans Mono',consolas,'Courier New',monospace\">\n",
       "<span style=\"color: #800000; text-decoration-color: #800000; font-weight: bold\">⚠️  WARNING: This will completely remove SyftBox!</span>\n",
       "</pre>\n"
      ],
      "text/plain": [
       "\n",
       "\u001b[1;31m⚠️  WARNING: This will completely remove SyftBox!\u001b[0m\n"
      ]
     },
     "metadata": {},
     "output_type": "display_data"
    },
    {
     "data": {
      "text/html": [
       "<pre style=\"white-space:pre;overflow-x:auto;line-height:normal;font-family:Menlo,'DejaVu Sans Mono',consolas,'Courier New',monospace\">\n",
       "This will delete:\n",
       "</pre>\n"
      ],
      "text/plain": [
       "\n",
       "This will delete:\n"
      ]
     },
     "metadata": {},
     "output_type": "display_data"
    },
    {
     "data": {
      "text/html": [
       "<pre style=\"white-space:pre;overflow-x:auto;line-height:normal;font-family:Menlo,'DejaVu Sans Mono',consolas,'Courier New',monospace\">  • <span style=\"color: #800000; text-decoration-color: #800000\">~/SyftBox</span> <span style=\"font-weight: bold\">(</span>all your data<span style=\"font-weight: bold\">)</span>\n",
       "</pre>\n"
      ],
      "text/plain": [
       "  • \u001b[31m~\u001b[0m\u001b[31m/\u001b[0m\u001b[31mSyftBox\u001b[0m \u001b[1m(\u001b[0mall your data\u001b[1m)\u001b[0m\n"
      ]
     },
     "metadata": {},
     "output_type": "display_data"
    },
    {
     "data": {
      "text/html": [
       "<pre style=\"white-space:pre;overflow-x:auto;line-height:normal;font-family:Menlo,'DejaVu Sans Mono',consolas,'Courier New',monospace\">  • <span style=\"color: #800000; text-decoration-color: #800000\">~/.syftbox</span> <span style=\"font-weight: bold\">(</span>configuration<span style=\"font-weight: bold\">)</span>\n",
       "</pre>\n"
      ],
      "text/plain": [
       "  • \u001b[31m~\u001b[0m\u001b[31m/\u001b[0m\u001b[31m.syftbox\u001b[0m \u001b[1m(\u001b[0mconfiguration\u001b[1m)\u001b[0m\n"
      ]
     },
     "metadata": {},
     "output_type": "display_data"
    },
    {
     "data": {
      "text/html": [
       "<pre style=\"white-space:pre;overflow-x:auto;line-height:normal;font-family:Menlo,'DejaVu Sans Mono',consolas,'Courier New',monospace\">  • <span style=\"color: #800000; text-decoration-color: #800000\">~/.local/bin/syftbox</span> <span style=\"font-weight: bold\">(</span>binary<span style=\"font-weight: bold\">)</span>\n",
       "</pre>\n"
      ],
      "text/plain": [
       "  • \u001b[31m~\u001b[0m\u001b[31m/.local/bin/\u001b[0m\u001b[31msyftbox\u001b[0m \u001b[1m(\u001b[0mbinary\u001b[1m)\u001b[0m\n"
      ]
     },
     "metadata": {},
     "output_type": "display_data"
    },
    {
     "data": {
      "text/html": [
       "<pre style=\"white-space:pre;overflow-x:auto;line-height:normal;font-family:Menlo,'DejaVu Sans Mono',consolas,'Courier New',monospace\">\n",
       "</pre>\n"
      ],
      "text/plain": [
       "\n"
      ]
     },
     "metadata": {},
     "output_type": "display_data"
    },
    {
     "data": {
      "text/html": [
       "<pre style=\"white-space:pre;overflow-x:auto;line-height:normal;font-family:Menlo,'DejaVu Sans Mono',consolas,'Courier New',monospace\">Type <span style=\"color: #008000; text-decoration-color: #008000\">'yes'</span> to confirm: </pre>\n"
      ],
      "text/plain": [
       "Type \u001b[32m'yes'\u001b[0m to confirm: "
      ]
     },
     "metadata": {},
     "output_type": "display_data"
    },
    {
     "name": "stdin",
     "output_type": "stream",
     "text": [
      " yes\n"
     ]
    },
    {
     "data": {
      "text/html": [
       "<pre style=\"white-space:pre;overflow-x:auto;line-height:normal;font-family:Menlo,'DejaVu Sans Mono',consolas,'Courier New',monospace\">\n",
       "🗑️  Uninstalling SyftBox<span style=\"color: #808000; text-decoration-color: #808000\">...</span>\n",
       "\n",
       "</pre>\n"
      ],
      "text/plain": [
       "\n",
       "🗑️  Uninstalling SyftBox\u001b[33m...\u001b[0m\n",
       "\n"
      ]
     },
     "metadata": {},
     "output_type": "display_data"
    },
    {
     "data": {
      "text/html": [
       "<pre style=\"white-space:pre;overflow-x:auto;line-height:normal;font-family:Menlo,'DejaVu Sans Mono',consolas,'Courier New',monospace\">🗑️  Deleted <span style=\"color: #800080; text-decoration-color: #800080\">/Users/atrask/</span><span style=\"color: #ff00ff; text-decoration-color: #ff00ff\">SyftBox</span>\n",
       "</pre>\n"
      ],
      "text/plain": [
       "🗑️  Deleted \u001b[35m/Users/atrask/\u001b[0m\u001b[95mSyftBox\u001b[0m\n"
      ]
     },
     "metadata": {},
     "output_type": "display_data"
    },
    {
     "data": {
      "text/html": [
       "<pre style=\"white-space:pre;overflow-x:auto;line-height:normal;font-family:Menlo,'DejaVu Sans Mono',consolas,'Courier New',monospace\">🗑️  Deleted <span style=\"color: #800080; text-decoration-color: #800080\">/Users/atrask/</span><span style=\"color: #ff00ff; text-decoration-color: #ff00ff\">.syftbox</span>\n",
       "</pre>\n"
      ],
      "text/plain": [
       "🗑️  Deleted \u001b[35m/Users/atrask/\u001b[0m\u001b[95m.syftbox\u001b[0m\n"
      ]
     },
     "metadata": {},
     "output_type": "display_data"
    },
    {
     "data": {
      "text/html": [
       "<pre style=\"white-space:pre;overflow-x:auto;line-height:normal;font-family:Menlo,'DejaVu Sans Mono',consolas,'Courier New',monospace\">🗑️  Deleted <span style=\"color: #800080; text-decoration-color: #800080\">/Users/atrask/.local/bin/</span><span style=\"color: #ff00ff; text-decoration-color: #ff00ff\">syftbox</span>\n",
       "</pre>\n"
      ],
      "text/plain": [
       "🗑️  Deleted \u001b[35m/Users/atrask/.local/bin/\u001b[0m\u001b[95msyftbox\u001b[0m\n"
      ]
     },
     "metadata": {},
     "output_type": "display_data"
    },
    {
     "data": {
      "text/html": [
       "<pre style=\"white-space:pre;overflow-x:auto;line-height:normal;font-family:Menlo,'DejaVu Sans Mono',consolas,'Courier New',monospace\">\n",
       "✅ SyftBox uninstalled completely!\n",
       "\n",
       "</pre>\n"
      ],
      "text/plain": [
       "\n",
       "✅ SyftBox uninstalled completely!\n",
       "\n"
      ]
     },
     "metadata": {},
     "output_type": "display_data"
    }
   ],
   "source": [
    "si.uninstall()"
   ]
  },
  {
   "cell_type": "code",
   "execution_count": 3,
   "metadata": {},
   "outputs": [
    {
     "data": {
      "text/html": [
       "<pre style=\"white-space:pre;overflow-x:auto;line-height:normal;font-family:Menlo,'DejaVu Sans Mono',consolas,'Courier New',monospace\">\n",
       "⏹️  Stopped SyftBox client\n",
       "\n",
       "</pre>\n"
      ],
      "text/plain": [
       "\n",
       "⏹️  Stopped SyftBox client\n",
       "\n"
      ]
     },
     "metadata": {},
     "output_type": "display_data"
    }
   ],
   "source": [
    "si.stop()"
   ]
  },
  {
   "cell_type": "markdown",
   "metadata": {},
   "source": [
    "## Manage SyftBox"
   ]
  },
  {
   "cell_type": "markdown",
   "metadata": {},
   "source": [
    "# Stop the daemon\n",
    "si.stop()\n",
    "\n",
    "# Start it again\n",
    "si.run()\n",
    "\n",
    "# Or restart\n",
    "si.restart()\n",
    "\n",
    "# Start only if not running (useful for scripts)\n",
    "si.start_if_stopped()"
   ]
  },
  {
   "cell_type": "code",
   "execution_count": 5,
   "metadata": {},
   "outputs": [
    {
     "data": {
      "text/html": [
       "<pre style=\"white-space:pre;overflow-x:auto;line-height:normal;font-family:Menlo,'DejaVu Sans Mono',consolas,'Courier New',monospace\"><span style=\"color: #008000; text-decoration-color: #008000\">╭──────────────────────────────────────────────── </span><span style=\"color: #008000; text-decoration-color: #008000; font-weight: bold\">SyftBox Status</span><span style=\"color: #008000; text-decoration-color: #008000\"> ─────────────────────────────────────────────────╮</span>\n",
       "<span style=\"color: #008000; text-decoration-color: #008000\">│</span>                                                                                                                 <span style=\"color: #008000; text-decoration-color: #008000\">│</span>\n",
       "<span style=\"color: #008000; text-decoration-color: #008000\">│</span>  <span style=\"color: #008080; text-decoration-color: #008080\"> Installed </span>  ✅ True                                                                                           <span style=\"color: #008000; text-decoration-color: #008000\">│</span>\n",
       "<span style=\"color: #008000; text-decoration-color: #008000\">│</span>  <span style=\"color: #008080; text-decoration-color: #008080\"> Running   </span>  ✅ True                                                                                           <span style=\"color: #008000; text-decoration-color: #008000\">│</span>\n",
       "<span style=\"color: #008000; text-decoration-color: #008000\">│</span>  <span style=\"color: #008080; text-decoration-color: #008080\"> Email     </span>  liamtrask+01@gmail.com                                                                            <span style=\"color: #008000; text-decoration-color: #008000\">│</span>\n",
       "<span style=\"color: #008000; text-decoration-color: #008000\">│</span>  <span style=\"color: #008080; text-decoration-color: #008080\"> Server    </span>  https://syftbox.net                                                                               <span style=\"color: #008000; text-decoration-color: #008000\">│</span>\n",
       "<span style=\"color: #008000; text-decoration-color: #008000\">│</span>  <span style=\"color: #008080; text-decoration-color: #008080\"> Data Dir  </span>  /Users/atrask/SyftBox                                                                             <span style=\"color: #008000; text-decoration-color: #008000\">│</span>\n",
       "<span style=\"color: #008000; text-decoration-color: #008000\">│</span>  <span style=\"color: #008080; text-decoration-color: #008080\"> Daemons   </span>  1 running (PIDs: 22325)                                                                           <span style=\"color: #008000; text-decoration-color: #008000\">│</span>\n",
       "<span style=\"color: #008000; text-decoration-color: #008000\">│</span>                                                                                                                 <span style=\"color: #008000; text-decoration-color: #008000\">│</span>\n",
       "<span style=\"color: #008000; text-decoration-color: #008000\">╰─────────────────────────────────────────────────────────────────────────────────────────────────────────────────╯</span>\n",
       "</pre>\n"
      ],
      "text/plain": [
       "\u001b[32m╭─\u001b[0m\u001b[32m───────────────────────────────────────────────\u001b[0m\u001b[32m \u001b[0m\u001b[1;32mSyftBox Status\u001b[0m\u001b[32m \u001b[0m\u001b[32m────────────────────────────────────────────────\u001b[0m\u001b[32m─╮\u001b[0m\n",
       "\u001b[32m│\u001b[0m                                                                                                                 \u001b[32m│\u001b[0m\n",
       "\u001b[32m│\u001b[0m  \u001b[36m \u001b[0m\u001b[36mInstalled\u001b[0m\u001b[36m \u001b[0m  ✅ True                                                                                           \u001b[32m│\u001b[0m\n",
       "\u001b[32m│\u001b[0m  \u001b[36m \u001b[0m\u001b[36mRunning  \u001b[0m\u001b[36m \u001b[0m  ✅ True                                                                                           \u001b[32m│\u001b[0m\n",
       "\u001b[32m│\u001b[0m  \u001b[36m \u001b[0m\u001b[36mEmail    \u001b[0m\u001b[36m \u001b[0m  liamtrask+01@gmail.com                                                                            \u001b[32m│\u001b[0m\n",
       "\u001b[32m│\u001b[0m  \u001b[36m \u001b[0m\u001b[36mServer   \u001b[0m\u001b[36m \u001b[0m  https://syftbox.net                                                                               \u001b[32m│\u001b[0m\n",
       "\u001b[32m│\u001b[0m  \u001b[36m \u001b[0m\u001b[36mData Dir \u001b[0m\u001b[36m \u001b[0m  /Users/atrask/SyftBox                                                                             \u001b[32m│\u001b[0m\n",
       "\u001b[32m│\u001b[0m  \u001b[36m \u001b[0m\u001b[36mDaemons  \u001b[0m\u001b[36m \u001b[0m  1 running (PIDs: 22325)                                                                           \u001b[32m│\u001b[0m\n",
       "\u001b[32m│\u001b[0m                                                                                                                 \u001b[32m│\u001b[0m\n",
       "\u001b[32m╰─────────────────────────────────────────────────────────────────────────────────────────────────────────────────╯\u001b[0m\n"
      ]
     },
     "metadata": {},
     "output_type": "display_data"
    },
    {
     "data": {
      "text/plain": [
       "{'installed': True,\n",
       " 'running': True,\n",
       " 'config': {'email': 'liamtrask+01@gmail.com',\n",
       "  'server': 'https://syftbox.net',\n",
       "  'data_dir': '/Users/atrask/SyftBox'},\n",
       " 'daemons': [{'user': 'atrask',\n",
       "   'pid': '22325',\n",
       "   'cpu': '97.4',\n",
       "   'mem': '0.1',\n",
       "   'start': '5:28pm',\n",
       "   'time': '0:01.59',\n",
       "   'command': '/Users/atrask/.local/bin/syftbox daemon'}]}"
      ]
     },
     "execution_count": 5,
     "metadata": {},
     "output_type": "execute_result"
    }
   ],
   "source": [
    "# See what's running\n",
    "si.status()"
   ]
  },
  {
   "cell_type": "markdown",
   "metadata": {},
   "source": [
    "## Manage SyftBox"
   ]
  },
  {
   "cell_type": "code",
   "execution_count": null,
   "metadata": {},
   "outputs": [
    {
     "data": {
      "text/html": [
       "<pre style=\"white-space:pre;overflow-x:auto;line-height:normal;font-family:Menlo,'DejaVu Sans Mono',consolas,'Courier New',monospace\">\n",
       "⏹️  Stopped SyftBox client\n",
       "\n",
       "</pre>\n"
      ],
      "text/plain": [
       "\n",
       "⏹️  Stopped SyftBox client\n",
       "\n"
      ]
     },
     "metadata": {},
     "output_type": "display_data"
    },
    {
     "data": {
      "text/html": [
       "<pre style=\"white-space:pre;overflow-x:auto;line-height:normal;font-family:Menlo,'DejaVu Sans Mono',consolas,'Courier New',monospace\">\n",
       "<span style=\"font-weight: bold\">🚀 Starting SyftBox</span><span style=\"color: #808000; text-decoration-color: #808000; font-weight: bold\">...</span>\n",
       "\n",
       "</pre>\n"
      ],
      "text/plain": [
       "\n",
       "\u001b[1m🚀 Starting SyftBox\u001b[0m\u001b[1;33m...\u001b[0m\n",
       "\n"
      ]
     },
     "metadata": {},
     "output_type": "display_data"
    },
    {
     "data": {
      "text/html": [
       "<pre style=\"white-space:pre;overflow-x:auto;line-height:normal;font-family:Menlo,'DejaVu Sans Mono',consolas,'Courier New',monospace\">✅ SyftBox already installed for <span style=\"color: #008080; text-decoration-color: #008080\">liamtrask+</span><span style=\"color: #008080; text-decoration-color: #008080; font-weight: bold\">01</span><span style=\"color: #008080; text-decoration-color: #008080\">@gmail.com</span>\n",
       "</pre>\n"
      ],
      "text/plain": [
       "✅ SyftBox already installed for \u001b[36mliamtrask+\u001b[0m\u001b[1;36m01\u001b[0m\u001b[36m@gmail.com\u001b[0m\n"
      ]
     },
     "metadata": {},
     "output_type": "display_data"
    },
    {
     "data": {
      "text/html": [
       "<pre style=\"white-space:pre;overflow-x:auto;line-height:normal;font-family:Menlo,'DejaVu Sans Mono',consolas,'Courier New',monospace\">\n",
       "▶️  Starting SyftBox client<span style=\"color: #808000; text-decoration-color: #808000\">...</span>\n",
       "</pre>\n"
      ],
      "text/plain": [
       "\n",
       "▶️  Starting SyftBox client\u001b[33m...\u001b[0m\n"
      ]
     },
     "metadata": {},
     "output_type": "display_data"
    },
    {
     "data": {
      "text/html": [
       "<pre style=\"white-space:pre;overflow-x:auto;line-height:normal;font-family:Menlo,'DejaVu Sans Mono',consolas,'Courier New',monospace\">✅ SyftBox client started!\n",
       "\n",
       "</pre>\n"
      ],
      "text/plain": [
       "✅ SyftBox client started!\n",
       "\n"
      ]
     },
     "metadata": {},
     "output_type": "display_data"
    },
    {
     "data": {
      "text/html": [
       "<pre style=\"white-space:pre;overflow-x:auto;line-height:normal;font-family:Menlo,'DejaVu Sans Mono',consolas,'Courier New',monospace\"><span style=\"color: #008000; text-decoration-color: #008000\">╭──────────────────────────────────────────────── </span><span style=\"color: #008000; text-decoration-color: #008000; font-weight: bold\">SyftBox Status</span><span style=\"color: #008000; text-decoration-color: #008000\"> ─────────────────────────────────────────────────╮</span>\n",
       "<span style=\"color: #008000; text-decoration-color: #008000\">│</span>                                                                                                                 <span style=\"color: #008000; text-decoration-color: #008000\">│</span>\n",
       "<span style=\"color: #008000; text-decoration-color: #008000\">│</span>  <span style=\"color: #008080; text-decoration-color: #008080\"> Installed </span>  ✅ True                                                                                           <span style=\"color: #008000; text-decoration-color: #008000\">│</span>\n",
       "<span style=\"color: #008000; text-decoration-color: #008000\">│</span>  <span style=\"color: #008080; text-decoration-color: #008080\"> Running   </span>  ✅ True                                                                                           <span style=\"color: #008000; text-decoration-color: #008000\">│</span>\n",
       "<span style=\"color: #008000; text-decoration-color: #008000\">│</span>  <span style=\"color: #008080; text-decoration-color: #008080\"> Email     </span>  liamtrask+01@gmail.com                                                                            <span style=\"color: #008000; text-decoration-color: #008000\">│</span>\n",
       "<span style=\"color: #008000; text-decoration-color: #008000\">│</span>  <span style=\"color: #008080; text-decoration-color: #008080\"> Server    </span>  https://syftbox.net                                                                               <span style=\"color: #008000; text-decoration-color: #008000\">│</span>\n",
       "<span style=\"color: #008000; text-decoration-color: #008000\">│</span>  <span style=\"color: #008080; text-decoration-color: #008080\"> Data Dir  </span>  /Users/atrask/SyftBox                                                                             <span style=\"color: #008000; text-decoration-color: #008000\">│</span>\n",
       "<span style=\"color: #008000; text-decoration-color: #008000\">│</span>  <span style=\"color: #008080; text-decoration-color: #008080\"> Daemons   </span>  1 running (PIDs: 22288)                                                                           <span style=\"color: #008000; text-decoration-color: #008000\">│</span>\n",
       "<span style=\"color: #008000; text-decoration-color: #008000\">│</span>                                                                                                                 <span style=\"color: #008000; text-decoration-color: #008000\">│</span>\n",
       "<span style=\"color: #008000; text-decoration-color: #008000\">╰─────────────────────────────────────────────────────────────────────────────────────────────────────────────────╯</span>\n",
       "</pre>\n"
      ],
      "text/plain": [
       "\u001b[32m╭─\u001b[0m\u001b[32m───────────────────────────────────────────────\u001b[0m\u001b[32m \u001b[0m\u001b[1;32mSyftBox Status\u001b[0m\u001b[32m \u001b[0m\u001b[32m────────────────────────────────────────────────\u001b[0m\u001b[32m─╮\u001b[0m\n",
       "\u001b[32m│\u001b[0m                                                                                                                 \u001b[32m│\u001b[0m\n",
       "\u001b[32m│\u001b[0m  \u001b[36m \u001b[0m\u001b[36mInstalled\u001b[0m\u001b[36m \u001b[0m  ✅ True                                                                                           \u001b[32m│\u001b[0m\n",
       "\u001b[32m│\u001b[0m  \u001b[36m \u001b[0m\u001b[36mRunning  \u001b[0m\u001b[36m \u001b[0m  ✅ True                                                                                           \u001b[32m│\u001b[0m\n",
       "\u001b[32m│\u001b[0m  \u001b[36m \u001b[0m\u001b[36mEmail    \u001b[0m\u001b[36m \u001b[0m  liamtrask+01@gmail.com                                                                            \u001b[32m│\u001b[0m\n",
       "\u001b[32m│\u001b[0m  \u001b[36m \u001b[0m\u001b[36mServer   \u001b[0m\u001b[36m \u001b[0m  https://syftbox.net                                                                               \u001b[32m│\u001b[0m\n",
       "\u001b[32m│\u001b[0m  \u001b[36m \u001b[0m\u001b[36mData Dir \u001b[0m\u001b[36m \u001b[0m  /Users/atrask/SyftBox                                                                             \u001b[32m│\u001b[0m\n",
       "\u001b[32m│\u001b[0m  \u001b[36m \u001b[0m\u001b[36mDaemons  \u001b[0m\u001b[36m \u001b[0m  1 running (PIDs: 22288)                                                                           \u001b[32m│\u001b[0m\n",
       "\u001b[32m│\u001b[0m                                                                                                                 \u001b[32m│\u001b[0m\n",
       "\u001b[32m╰─────────────────────────────────────────────────────────────────────────────────────────────────────────────────╯\u001b[0m\n"
      ]
     },
     "metadata": {},
     "output_type": "display_data"
    },
    {
     "data": {
      "text/html": [
       "<pre style=\"white-space:pre;overflow-x:auto;line-height:normal;font-family:Menlo,'DejaVu Sans Mono',consolas,'Courier New',monospace\">\n",
       "🔄 Restarting SyftBox client<span style=\"color: #808000; text-decoration-color: #808000\">...</span>\n",
       "\n",
       "</pre>\n"
      ],
      "text/plain": [
       "\n",
       "🔄 Restarting SyftBox client\u001b[33m...\u001b[0m\n",
       "\n"
      ]
     },
     "metadata": {},
     "output_type": "display_data"
    },
    {
     "name": "stdout",
     "output_type": "stream",
     "text": [
      "2025-07-21T17:27:37.057-04:00 INF syftbox version=0.7.0 revision=56ab5dc build=2025-07-15T05:49:25Z\n",
      "2025-07-21T17:27:37.058-04:00 INF auth enabled\n",
      "2025-07-21T17:27:37.058-04:00 INF swagger enabled\n",
      "2025-07-21T17:27:37.058-04:00 INF client daemon start\n",
      "2025-07-21T17:27:37.058-04:00 INF control plane start addr=http://localhost:7938 token=886aed97a2989b9a969fccf68316aecc\n",
      "2025-07-21T17:27:37.058-04:00 INF datasite manager start\n",
      "2025-07-21T17:27:37.058-04:00 INF default config found. provisioning datasite.\n",
      "2025-07-21T17:27:37.058-04:00 INF datasite start id=692568 config.data_dir=/Users/atrask/SyftBox config.email=liamtrask+01@gmail.com config.server_url=https://syftbox.net config.client_url=http://localhost:7938 config.apps_enabled=true config.refresh_token=true config.access_token=false config.path=/Users/atrask/.syftbox/config.json\n",
      "2025-07-21T17:27:37.058-04:00 INF workspace root=/Users/atrask/SyftBox\n",
      "2025-07-21T17:27:37.546-04:00 INF authenticating with the server\n",
      "2025-07-21T17:27:37.547-04:00 DBG sdk: refreshing auth tokens\n",
      "2025-07-21T17:27:37.608-04:00 DBG sdk: update access token user=liamtrask+01@gmail.com expiry=2025-07-24T17:27:37-04:00\n",
      "2025-07-21T17:27:37.609-04:00 INF authenticated user=liamtrask+01@gmail.com\n",
      "2025-07-21T17:27:37.609-04:00 INF scheduler start appdir=/Users/atrask/SyftBox/apps\n",
      "2025-07-21T17:27:37.609-04:00 INF sync manager start\n",
      "2025-07-21T17:27:37.610-04:00 INF sync start\n",
      "2025-07-21T17:27:37.610-04:00 DBG open db driver=sqlite3 path=/Users/atrask/SyftBox/.data/sync.db\n",
      "2025-07-21T17:27:38.555-04:00 INF running initial sync\n",
      "2025-07-21T17:27:39.371-04:00 WRN unresolved conflict path=liamtrask@gmail.com/syft.pub.conflict.20250721165150.yaml\n",
      "2025-07-21T17:27:39.371-04:00 WRN unresolved conflict path=liamtrask@gmail.com/syft.pub.conflict.yaml\n",
      "2025-07-21T17:27:39.505-04:00 INF full sync start downloads=1 uploads=0 localDeletes=0 remoteDeletes=0 conflicts=0\n",
      "2025-07-21T17:27:39.674-04:00 INF sync type=Standard op=WriteLocal status=Completed path=mail@andreibratu.com/app_data/data-syncer/rpc/query_transcription_chunks/47b1cafe-12f3-4663-b897-6755232a5e48.request size=\"647 B\"\n",
      "2025-07-21T17:27:39.674-04:00 INF full sync completed total=2741 downloads=1 uploads=0 localDeletes=0 remoteDeletes=0 unchanged=2733 cleanups=0 ignored=7 status.syncing=0 status.unresolvedConflicts=1 status.unresolvedRejects=0 ts.remoteState=110.985941ms ts.localState=691.332335ms ts.journalState=5.398941ms ts.reconcile=127.789272ms ts.total=1.105689089s\n",
      "2025-07-21T17:27:39.674-04:00 INF starting file watcher\n",
      "2025-07-21T17:27:39.674-04:00 INF file watcher start dir=/Users/atrask/SyftBox/datasites\n",
      "2025-07-21T17:27:39.674-04:00 INF listening for websocket events\n",
      "2025-07-21T17:27:39.745-04:00 INF socketmgr client connected\n",
      "2025-07-21T17:27:39.745-04:00 DBG socket RECV id=47ee18 type=SYSTEM\n",
      "2025-07-21T17:27:39.745-04:00 DBG socketmgr RECV id=47ee18 type=SYSTEM\n",
      "2025-07-21T17:27:39.745-04:00 INF handle socket message msgType=SYSTEM msgId=47ee18 serverVersion=0.7.0\n",
      "2025-07-21T17:27:45.029-04:00 INF full sync start downloads=2 uploads=0 localDeletes=0 remoteDeletes=0 conflicts=0\n",
      "2025-07-21T17:27:45.093-04:00 INF sync type=Standard op=WriteLocal status=Completed path=abyesilyurt@gmail.com/app_data/data-syncer/rpc/query_transcription_chunks/a876dea0-c376-4d04-aa55-0791bc804b01.request size=\"649 B\"\n",
      "2025-07-21T17:27:45.128-04:00 INF sync type=Standard op=WriteLocal status=Completed path=abyesilyurt@gmail.com/app_data/data-syncer/rpc/get_latest_file_to_sync/c1b54f27-d470-49ef-ac46-51933eba1266.request size=\"646 B\"\n",
      "2025-07-21T17:27:45.128-04:00 INF full sync completed total=2743 downloads=2 uploads=0 localDeletes=0 remoteDeletes=0 unchanged=2734 cleanups=0 ignored=7 status.syncing=0 status.unresolvedConflicts=1 status.unresolvedRejects=0 ts.remoteState=35.390592ms ts.localState=86.898383ms ts.journalState=4.843663ms ts.reconcile=129.733198ms ts.total=355.894664ms\n",
      "2025-07-21T17:27:50.460-04:00 INF full sync start downloads=2 uploads=0 localDeletes=0 remoteDeletes=0 conflicts=0\n",
      "2025-07-21T17:27:50.522-04:00 INF sync type=Standard op=WriteLocal status=Completed path=mail@andreibratu.com/app_data/data-syncer/rpc/query_transcription_chunks/c8ea96c5-2227-4ad7-9e29-77061046c84f.request size=\"647 B\"\n",
      "2025-07-21T17:27:50.532-04:00 INF sync type=Standard op=WriteLocal status=Completed path=mail@andreibratu.com/app_data/data-syncer/rpc/get_latest_file_to_sync/972c4512-f699-462e-b1cd-38c8f60da821.request size=\"644 B\"\n",
      "2025-07-21T17:27:50.532-04:00 INF full sync completed total=2745 downloads=2 uploads=0 localDeletes=0 remoteDeletes=0 unchanged=2736 cleanups=0 ignored=7 status.syncing=0 status.unresolvedConflicts=1 status.unresolvedRejects=0 ts.remoteState=100.047546ms ts.localState=86.859825ms ts.journalState=5.144629ms ts.reconcile=126.973675ms ts.total=390.993338ms\n",
      "2025-07-21T17:27:55.837-04:00 INF full sync start downloads=1 uploads=0 localDeletes=0 remoteDeletes=0 conflicts=0\n",
      "2025-07-21T17:27:55.912-04:00 INF sync type=Standard op=WriteLocal status=Completed path=abyesilyurt@gmail.com/app_data/data-syncer/rpc/query_transcription_chunks/7a1a46f0-0c1b-4e6b-b5fa-481a4484f543.request size=\"649 B\"\n",
      "2025-07-21T17:27:55.913-04:00 INF full sync completed total=2746 downloads=1 uploads=0 localDeletes=0 remoteDeletes=0 unchanged=2738 cleanups=0 ignored=7 status.syncing=0 status.unresolvedConflicts=1 status.unresolvedRejects=0 ts.remoteState=74.727164ms ts.localState=86.607495ms ts.journalState=4.875845ms ts.reconcile=126.703375ms ts.total=368.986168ms\n",
      "2025-07-21T17:28:01.207-04:00 INF full sync start downloads=3 uploads=0 localDeletes=0 remoteDeletes=0 conflicts=0\n",
      "2025-07-21T17:28:01.319-04:00 INF sync type=Standard op=WriteLocal status=Completed path=abyesilyurt@gmail.com/app_data/data-syncer/rpc/get_latest_file_to_sync/09695874-2430-4bb0-bd17-753f742c7717.request size=\"646 B\"\n",
      "2025-07-21T17:28:01.319-04:00 INF sync type=Standard op=WriteLocal status=Completed path=mail@andreibratu.com/app_data/data-syncer/rpc/get_latest_file_to_sync/7e85bb35-b0c5-4881-b38d-338aca3769ed.request size=\"644 B\"\n",
      "2025-07-21T17:28:01.324-04:00 INF sync type=Standard op=WriteLocal status=Completed path=mail@andreibratu.com/app_data/data-syncer/rpc/query_transcription_chunks/10b026a1-71d5-4603-9466-9e682c88e2e2.request size=\"645 B\"\n",
      "2025-07-21T17:28:01.324-04:00 INF full sync completed total=2749 downloads=3 uploads=0 localDeletes=0 remoteDeletes=0 unchanged=2739 cleanups=0 ignored=7 status.syncing=0 status.unresolvedConflicts=1 status.unresolvedRejects=0 ts.remoteState=58.083635ms ts.localState=88.700919ms ts.journalState=5.903733ms ts.reconcile=130.247118ms ts.total=399.447911ms\n",
      "2025-07-21T17:28:06.681-04:00 INF full sync start downloads=0 uploads=0 localDeletes=12 remoteDeletes=0 conflicts=0\n",
      "2025-07-21T17:28:06.681-04:00 INF sync type=Standard op=DeleteLocal path=mail@andreibratu.com/app_data/data-syncer/rpc/get_latest_file_to_sync/ae8d04c3-8fcb-4694-8e3d-dc83ba1114ff.request\n",
      "2025-07-21T17:28:06.682-04:00 INF sync type=Standard op=DeleteLocal path=mail@andreibratu.com/app_data/data-syncer/rpc/get_latest_file_to_sync/cf533ddf-9dfc-459a-85ec-ae9c9f72186b.request\n",
      "2025-07-21T17:28:06.682-04:00 INF sync type=Standard op=DeleteLocal path=mail@andreibratu.com/app_data/data-syncer/rpc/get_latest_file_to_sync/88678fb5-e379-4eca-a019-c27dfd28182c.request\n",
      "2025-07-21T17:28:06.682-04:00 INF sync type=Standard op=DeleteLocal path=abyesilyurt@gmail.com/app_data/data-syncer/rpc/get_latest_file_to_sync/2596c6e3-ccfc-47bd-96f1-fa792d3a5c29.request\n",
      "2025-07-21T17:28:06.682-04:00 INF sync type=Standard op=DeleteLocal path=mail@andreibratu.com/app_data/data-syncer/rpc/query_transcription_chunks/b1074286-8b54-415a-afe7-5d02a2979112.request\n",
      "2025-07-21T17:28:06.682-04:00 INF sync type=Standard op=DeleteLocal path=abyesilyurt@gmail.com/app_data/data-syncer/rpc/query_transcription_chunks/61486ba1-7349-465a-bdc6-5b1875e654ce.request\n",
      "2025-07-21T17:28:06.683-04:00 INF sync type=Standard op=DeleteLocal path=mail@andreibratu.com/app_data/data-syncer/rpc/query_transcription_chunks/5d73bcac-5440-47a6-8ce8-5d840f0c2940.request\n",
      "2025-07-21T17:28:06.683-04:00 INF sync type=Standard op=DeleteLocal path=abyesilyurt@gmail.com/app_data/data-syncer/rpc/get_latest_file_to_sync/2377efe1-e9bc-4d4d-b3f1-41744c454caf.request\n",
      "2025-07-21T17:28:06.683-04:00 INF sync type=Standard op=DeleteLocal path=mail@andreibratu.com/app_data/data-syncer/rpc/query_transcription_chunks/07173b2b-d292-4e9f-8542-95c3f741f6d4.request\n",
      "2025-07-21T17:28:06.684-04:00 INF sync type=Standard op=DeleteLocal path=mail@andreibratu.com/app_data/data-syncer/rpc/query_transcription_chunks/323a2519-7d5f-4872-bdb5-67ff87d0a693.request\n",
      "2025-07-21T17:28:06.684-04:00 INF sync type=Standard op=DeleteLocal path=abyesilyurt@gmail.com/app_data/data-syncer/rpc/query_transcription_chunks/30446196-25d8-4d4d-af62-4fea2d924697.request\n",
      "2025-07-21T17:28:06.684-04:00 INF sync type=Standard op=DeleteLocal path=mail@andreibratu.com/app_data/data-syncer/rpc/get_latest_file_to_sync/04c54d80-7732-47be-8b2c-756e0e17d58d.request\n",
      "2025-07-21T17:28:06.685-04:00 INF full sync completed total=2749 downloads=0 uploads=0 localDeletes=12 remoteDeletes=0 unchanged=2730 cleanups=0 ignored=7 status.syncing=0 status.unresolvedConflicts=1 status.unresolvedRejects=0 ts.remoteState=87.406438ms ts.localState=89.023327ms ts.journalState=5.343472ms ts.reconcile=128.245627ms ts.total=313.966592ms\n"
     ]
    }
   ],
   "source": [
    "# Stop the daemon\n",
    "si.stop()\n",
    "\n",
    "# Start it again\n",
    "si.run()\n",
    "\n",
    "# Or restart\n",
    "si.restart()"
   ]
  },
  {
   "cell_type": "markdown",
   "metadata": {},
   "source": [
    "## Quick Checks"
   ]
  },
  {
   "cell_type": "code",
   "execution_count": null,
   "metadata": {},
   "outputs": [],
   "source": [
    "# Is it installed?\n",
    "print(f\"Installed: {si.is_installed()}\")\n",
    "\n",
    "# Is it running?\n",
    "print(f\"Running: {si.is_running()}\")"
   ]
  },
  {
   "cell_type": "markdown",
   "metadata": {},
   "source": [
    "## Uninstall (if needed)"
   ]
  },
  {
   "cell_type": "code",
   "execution_count": null,
   "metadata": {},
   "outputs": [],
   "source": [
    "# This removes everything - be careful!\n",
    "# si.uninstall()"
   ]
  },
  {
   "cell_type": "markdown",
   "metadata": {},
   "source": [
    "---\n",
    "\n",
    "That's the entire API! 🎉\n",
    "\n",
    "**Key Points:**\n",
    "- `si.run()` handles everything automatically\n",
    "- Works in Colab, Jupyter, and terminal\n",
    "- No configuration needed\n",
    "- Beautiful status displays"
   ]
  }
 ],
 "metadata": {
  "kernelspec": {
   "display_name": "Python 3 (ipykernel)",
   "language": "python",
   "name": "python3"
  },
  "language_info": {
   "codemirror_mode": {
    "name": "ipython",
    "version": 3
   },
   "file_extension": ".py",
   "mimetype": "text/x-python",
   "name": "python",
   "nbconvert_exporter": "python",
   "pygments_lexer": "ipython3",
   "version": "3.12.7"
  }
 },
 "nbformat": 4,
 "nbformat_minor": 4
}
